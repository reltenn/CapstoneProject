{
  "nbformat": 4,
  "nbformat_minor": 0,
  "metadata": {
    "colab": {
      "name": "Copy of Test-arabert-Multi-classif-v1.ipynb ",
      "provenance": [],
      "collapsed_sections": []
    },
    "kernelspec": {
      "display_name": "Python 3",
      "name": "python3"
    },
    "language_info": {
      "name": "python"
    },
    "accelerator": "GPU",
    "widgets": {
      "application/vnd.jupyter.widget-state+json": {
        "16418349e3c74102b113c5490cd2374e": {
          "model_module": "@jupyter-widgets/controls",
          "model_name": "HBoxModel",
          "model_module_version": "1.5.0",
          "state": {
            "_view_name": "HBoxView",
            "_dom_classes": [],
            "_model_name": "HBoxModel",
            "_view_module": "@jupyter-widgets/controls",
            "_model_module_version": "1.5.0",
            "_view_count": null,
            "_view_module_version": "1.5.0",
            "box_style": "",
            "layout": "IPY_MODEL_4e5fbe49055d4d50a00fb137599b641c",
            "_model_module": "@jupyter-widgets/controls",
            "children": [
              "IPY_MODEL_a7121e49aaa54de29c02b4d9d69cc1fc",
              "IPY_MODEL_9a5a0e8fb77643c29fbfb6b9f55b7005",
              "IPY_MODEL_4055539fc0e547618a0e7148e0bb3443"
            ]
          }
        },
        "4e5fbe49055d4d50a00fb137599b641c": {
          "model_module": "@jupyter-widgets/base",
          "model_name": "LayoutModel",
          "model_module_version": "1.2.0",
          "state": {
            "_view_name": "LayoutView",
            "grid_template_rows": null,
            "right": null,
            "justify_content": null,
            "_view_module": "@jupyter-widgets/base",
            "overflow": null,
            "_model_module_version": "1.2.0",
            "_view_count": null,
            "flex_flow": null,
            "width": null,
            "min_width": null,
            "border": null,
            "align_items": null,
            "bottom": null,
            "_model_module": "@jupyter-widgets/base",
            "top": null,
            "grid_column": null,
            "overflow_y": null,
            "overflow_x": null,
            "grid_auto_flow": null,
            "grid_area": null,
            "grid_template_columns": null,
            "flex": null,
            "_model_name": "LayoutModel",
            "justify_items": null,
            "grid_row": null,
            "max_height": null,
            "align_content": null,
            "visibility": null,
            "align_self": null,
            "height": null,
            "min_height": null,
            "padding": null,
            "grid_auto_rows": null,
            "grid_gap": null,
            "max_width": null,
            "order": null,
            "_view_module_version": "1.2.0",
            "grid_template_areas": null,
            "object_position": null,
            "object_fit": null,
            "grid_auto_columns": null,
            "margin": null,
            "display": null,
            "left": null
          }
        },
        "a7121e49aaa54de29c02b4d9d69cc1fc": {
          "model_module": "@jupyter-widgets/controls",
          "model_name": "HTMLModel",
          "model_module_version": "1.5.0",
          "state": {
            "_view_name": "HTMLView",
            "style": "IPY_MODEL_b560eae738cd4597a239bf857bea79d6",
            "_dom_classes": [],
            "description": "",
            "_model_name": "HTMLModel",
            "placeholder": "​",
            "_view_module": "@jupyter-widgets/controls",
            "_model_module_version": "1.5.0",
            "value": "Downloading: 100%",
            "_view_count": null,
            "_view_module_version": "1.5.0",
            "description_tooltip": null,
            "_model_module": "@jupyter-widgets/controls",
            "layout": "IPY_MODEL_1989523ce07c435499ac5e62783cccf6"
          }
        },
        "9a5a0e8fb77643c29fbfb6b9f55b7005": {
          "model_module": "@jupyter-widgets/controls",
          "model_name": "FloatProgressModel",
          "model_module_version": "1.5.0",
          "state": {
            "_view_name": "ProgressView",
            "style": "IPY_MODEL_f7e1ed97a5574a16b91b3324ed8bdbe6",
            "_dom_classes": [],
            "description": "",
            "_model_name": "FloatProgressModel",
            "bar_style": "success",
            "max": 381,
            "_view_module": "@jupyter-widgets/controls",
            "_model_module_version": "1.5.0",
            "value": 381,
            "_view_count": null,
            "_view_module_version": "1.5.0",
            "orientation": "horizontal",
            "min": 0,
            "description_tooltip": null,
            "_model_module": "@jupyter-widgets/controls",
            "layout": "IPY_MODEL_871d08dc3f414398b99798024fccee8f"
          }
        },
        "4055539fc0e547618a0e7148e0bb3443": {
          "model_module": "@jupyter-widgets/controls",
          "model_name": "HTMLModel",
          "model_module_version": "1.5.0",
          "state": {
            "_view_name": "HTMLView",
            "style": "IPY_MODEL_cd2ab2f2ab5e47049df69c5ba2327c3c",
            "_dom_classes": [],
            "description": "",
            "_model_name": "HTMLModel",
            "placeholder": "​",
            "_view_module": "@jupyter-widgets/controls",
            "_model_module_version": "1.5.0",
            "value": " 381/381 [00:00&lt;00:00, 8.18kB/s]",
            "_view_count": null,
            "_view_module_version": "1.5.0",
            "description_tooltip": null,
            "_model_module": "@jupyter-widgets/controls",
            "layout": "IPY_MODEL_f3869d58209f4062b9cd0f6572d74408"
          }
        },
        "b560eae738cd4597a239bf857bea79d6": {
          "model_module": "@jupyter-widgets/controls",
          "model_name": "DescriptionStyleModel",
          "model_module_version": "1.5.0",
          "state": {
            "_view_name": "StyleView",
            "_model_name": "DescriptionStyleModel",
            "description_width": "",
            "_view_module": "@jupyter-widgets/base",
            "_model_module_version": "1.5.0",
            "_view_count": null,
            "_view_module_version": "1.2.0",
            "_model_module": "@jupyter-widgets/controls"
          }
        },
        "1989523ce07c435499ac5e62783cccf6": {
          "model_module": "@jupyter-widgets/base",
          "model_name": "LayoutModel",
          "model_module_version": "1.2.0",
          "state": {
            "_view_name": "LayoutView",
            "grid_template_rows": null,
            "right": null,
            "justify_content": null,
            "_view_module": "@jupyter-widgets/base",
            "overflow": null,
            "_model_module_version": "1.2.0",
            "_view_count": null,
            "flex_flow": null,
            "width": null,
            "min_width": null,
            "border": null,
            "align_items": null,
            "bottom": null,
            "_model_module": "@jupyter-widgets/base",
            "top": null,
            "grid_column": null,
            "overflow_y": null,
            "overflow_x": null,
            "grid_auto_flow": null,
            "grid_area": null,
            "grid_template_columns": null,
            "flex": null,
            "_model_name": "LayoutModel",
            "justify_items": null,
            "grid_row": null,
            "max_height": null,
            "align_content": null,
            "visibility": null,
            "align_self": null,
            "height": null,
            "min_height": null,
            "padding": null,
            "grid_auto_rows": null,
            "grid_gap": null,
            "max_width": null,
            "order": null,
            "_view_module_version": "1.2.0",
            "grid_template_areas": null,
            "object_position": null,
            "object_fit": null,
            "grid_auto_columns": null,
            "margin": null,
            "display": null,
            "left": null
          }
        },
        "f7e1ed97a5574a16b91b3324ed8bdbe6": {
          "model_module": "@jupyter-widgets/controls",
          "model_name": "ProgressStyleModel",
          "model_module_version": "1.5.0",
          "state": {
            "_view_name": "StyleView",
            "_model_name": "ProgressStyleModel",
            "description_width": "",
            "_view_module": "@jupyter-widgets/base",
            "_model_module_version": "1.5.0",
            "_view_count": null,
            "_view_module_version": "1.2.0",
            "bar_color": null,
            "_model_module": "@jupyter-widgets/controls"
          }
        },
        "871d08dc3f414398b99798024fccee8f": {
          "model_module": "@jupyter-widgets/base",
          "model_name": "LayoutModel",
          "model_module_version": "1.2.0",
          "state": {
            "_view_name": "LayoutView",
            "grid_template_rows": null,
            "right": null,
            "justify_content": null,
            "_view_module": "@jupyter-widgets/base",
            "overflow": null,
            "_model_module_version": "1.2.0",
            "_view_count": null,
            "flex_flow": null,
            "width": null,
            "min_width": null,
            "border": null,
            "align_items": null,
            "bottom": null,
            "_model_module": "@jupyter-widgets/base",
            "top": null,
            "grid_column": null,
            "overflow_y": null,
            "overflow_x": null,
            "grid_auto_flow": null,
            "grid_area": null,
            "grid_template_columns": null,
            "flex": null,
            "_model_name": "LayoutModel",
            "justify_items": null,
            "grid_row": null,
            "max_height": null,
            "align_content": null,
            "visibility": null,
            "align_self": null,
            "height": null,
            "min_height": null,
            "padding": null,
            "grid_auto_rows": null,
            "grid_gap": null,
            "max_width": null,
            "order": null,
            "_view_module_version": "1.2.0",
            "grid_template_areas": null,
            "object_position": null,
            "object_fit": null,
            "grid_auto_columns": null,
            "margin": null,
            "display": null,
            "left": null
          }
        },
        "cd2ab2f2ab5e47049df69c5ba2327c3c": {
          "model_module": "@jupyter-widgets/controls",
          "model_name": "DescriptionStyleModel",
          "model_module_version": "1.5.0",
          "state": {
            "_view_name": "StyleView",
            "_model_name": "DescriptionStyleModel",
            "description_width": "",
            "_view_module": "@jupyter-widgets/base",
            "_model_module_version": "1.5.0",
            "_view_count": null,
            "_view_module_version": "1.2.0",
            "_model_module": "@jupyter-widgets/controls"
          }
        },
        "f3869d58209f4062b9cd0f6572d74408": {
          "model_module": "@jupyter-widgets/base",
          "model_name": "LayoutModel",
          "model_module_version": "1.2.0",
          "state": {
            "_view_name": "LayoutView",
            "grid_template_rows": null,
            "right": null,
            "justify_content": null,
            "_view_module": "@jupyter-widgets/base",
            "overflow": null,
            "_model_module_version": "1.2.0",
            "_view_count": null,
            "flex_flow": null,
            "width": null,
            "min_width": null,
            "border": null,
            "align_items": null,
            "bottom": null,
            "_model_module": "@jupyter-widgets/base",
            "top": null,
            "grid_column": null,
            "overflow_y": null,
            "overflow_x": null,
            "grid_auto_flow": null,
            "grid_area": null,
            "grid_template_columns": null,
            "flex": null,
            "_model_name": "LayoutModel",
            "justify_items": null,
            "grid_row": null,
            "max_height": null,
            "align_content": null,
            "visibility": null,
            "align_self": null,
            "height": null,
            "min_height": null,
            "padding": null,
            "grid_auto_rows": null,
            "grid_gap": null,
            "max_width": null,
            "order": null,
            "_view_module_version": "1.2.0",
            "grid_template_areas": null,
            "object_position": null,
            "object_fit": null,
            "grid_auto_columns": null,
            "margin": null,
            "display": null,
            "left": null
          }
        },
        "ce9929b1542941f7a585eef5a1cbf3ec": {
          "model_module": "@jupyter-widgets/controls",
          "model_name": "HBoxModel",
          "model_module_version": "1.5.0",
          "state": {
            "_view_name": "HBoxView",
            "_dom_classes": [],
            "_model_name": "HBoxModel",
            "_view_module": "@jupyter-widgets/controls",
            "_model_module_version": "1.5.0",
            "_view_count": null,
            "_view_module_version": "1.5.0",
            "box_style": "",
            "layout": "IPY_MODEL_a2712d26063d431d8ad13f00c45dd794",
            "_model_module": "@jupyter-widgets/controls",
            "children": [
              "IPY_MODEL_b8b337c55a774fcc924151821ee63fc3",
              "IPY_MODEL_6c76cfcb1d7a4907a705566e21ec2205",
              "IPY_MODEL_63923cfb4ad040549a7b034a92d687ef"
            ]
          }
        },
        "a2712d26063d431d8ad13f00c45dd794": {
          "model_module": "@jupyter-widgets/base",
          "model_name": "LayoutModel",
          "model_module_version": "1.2.0",
          "state": {
            "_view_name": "LayoutView",
            "grid_template_rows": null,
            "right": null,
            "justify_content": null,
            "_view_module": "@jupyter-widgets/base",
            "overflow": null,
            "_model_module_version": "1.2.0",
            "_view_count": null,
            "flex_flow": null,
            "width": null,
            "min_width": null,
            "border": null,
            "align_items": null,
            "bottom": null,
            "_model_module": "@jupyter-widgets/base",
            "top": null,
            "grid_column": null,
            "overflow_y": null,
            "overflow_x": null,
            "grid_auto_flow": null,
            "grid_area": null,
            "grid_template_columns": null,
            "flex": null,
            "_model_name": "LayoutModel",
            "justify_items": null,
            "grid_row": null,
            "max_height": null,
            "align_content": null,
            "visibility": null,
            "align_self": null,
            "height": null,
            "min_height": null,
            "padding": null,
            "grid_auto_rows": null,
            "grid_gap": null,
            "max_width": null,
            "order": null,
            "_view_module_version": "1.2.0",
            "grid_template_areas": null,
            "object_position": null,
            "object_fit": null,
            "grid_auto_columns": null,
            "margin": null,
            "display": null,
            "left": null
          }
        },
        "b8b337c55a774fcc924151821ee63fc3": {
          "model_module": "@jupyter-widgets/controls",
          "model_name": "HTMLModel",
          "model_module_version": "1.5.0",
          "state": {
            "_view_name": "HTMLView",
            "style": "IPY_MODEL_e9dd75b2e23142e2bbd314f45fd2ad30",
            "_dom_classes": [],
            "description": "",
            "_model_name": "HTMLModel",
            "placeholder": "​",
            "_view_module": "@jupyter-widgets/controls",
            "_model_module_version": "1.5.0",
            "value": "Downloading: 100%",
            "_view_count": null,
            "_view_module_version": "1.5.0",
            "description_tooltip": null,
            "_model_module": "@jupyter-widgets/controls",
            "layout": "IPY_MODEL_d492ac0fd9454fa28341494834a4cc95"
          }
        },
        "6c76cfcb1d7a4907a705566e21ec2205": {
          "model_module": "@jupyter-widgets/controls",
          "model_name": "FloatProgressModel",
          "model_module_version": "1.5.0",
          "state": {
            "_view_name": "ProgressView",
            "style": "IPY_MODEL_ac643160bde84ea196131542b1ef67ac",
            "_dom_classes": [],
            "description": "",
            "_model_name": "FloatProgressModel",
            "bar_style": "success",
            "max": 384,
            "_view_module": "@jupyter-widgets/controls",
            "_model_module_version": "1.5.0",
            "value": 384,
            "_view_count": null,
            "_view_module_version": "1.5.0",
            "orientation": "horizontal",
            "min": 0,
            "description_tooltip": null,
            "_model_module": "@jupyter-widgets/controls",
            "layout": "IPY_MODEL_46480bc57c0541d9897c68150882bb43"
          }
        },
        "63923cfb4ad040549a7b034a92d687ef": {
          "model_module": "@jupyter-widgets/controls",
          "model_name": "HTMLModel",
          "model_module_version": "1.5.0",
          "state": {
            "_view_name": "HTMLView",
            "style": "IPY_MODEL_7c6a610ed890400e943c1ec7f7b9f681",
            "_dom_classes": [],
            "description": "",
            "_model_name": "HTMLModel",
            "placeholder": "​",
            "_view_module": "@jupyter-widgets/controls",
            "_model_module_version": "1.5.0",
            "value": " 384/384 [00:00&lt;00:00, 7.40kB/s]",
            "_view_count": null,
            "_view_module_version": "1.5.0",
            "description_tooltip": null,
            "_model_module": "@jupyter-widgets/controls",
            "layout": "IPY_MODEL_ce6266519676487b9975fd3885e4fb56"
          }
        },
        "e9dd75b2e23142e2bbd314f45fd2ad30": {
          "model_module": "@jupyter-widgets/controls",
          "model_name": "DescriptionStyleModel",
          "model_module_version": "1.5.0",
          "state": {
            "_view_name": "StyleView",
            "_model_name": "DescriptionStyleModel",
            "description_width": "",
            "_view_module": "@jupyter-widgets/base",
            "_model_module_version": "1.5.0",
            "_view_count": null,
            "_view_module_version": "1.2.0",
            "_model_module": "@jupyter-widgets/controls"
          }
        },
        "d492ac0fd9454fa28341494834a4cc95": {
          "model_module": "@jupyter-widgets/base",
          "model_name": "LayoutModel",
          "model_module_version": "1.2.0",
          "state": {
            "_view_name": "LayoutView",
            "grid_template_rows": null,
            "right": null,
            "justify_content": null,
            "_view_module": "@jupyter-widgets/base",
            "overflow": null,
            "_model_module_version": "1.2.0",
            "_view_count": null,
            "flex_flow": null,
            "width": null,
            "min_width": null,
            "border": null,
            "align_items": null,
            "bottom": null,
            "_model_module": "@jupyter-widgets/base",
            "top": null,
            "grid_column": null,
            "overflow_y": null,
            "overflow_x": null,
            "grid_auto_flow": null,
            "grid_area": null,
            "grid_template_columns": null,
            "flex": null,
            "_model_name": "LayoutModel",
            "justify_items": null,
            "grid_row": null,
            "max_height": null,
            "align_content": null,
            "visibility": null,
            "align_self": null,
            "height": null,
            "min_height": null,
            "padding": null,
            "grid_auto_rows": null,
            "grid_gap": null,
            "max_width": null,
            "order": null,
            "_view_module_version": "1.2.0",
            "grid_template_areas": null,
            "object_position": null,
            "object_fit": null,
            "grid_auto_columns": null,
            "margin": null,
            "display": null,
            "left": null
          }
        },
        "ac643160bde84ea196131542b1ef67ac": {
          "model_module": "@jupyter-widgets/controls",
          "model_name": "ProgressStyleModel",
          "model_module_version": "1.5.0",
          "state": {
            "_view_name": "StyleView",
            "_model_name": "ProgressStyleModel",
            "description_width": "",
            "_view_module": "@jupyter-widgets/base",
            "_model_module_version": "1.5.0",
            "_view_count": null,
            "_view_module_version": "1.2.0",
            "bar_color": null,
            "_model_module": "@jupyter-widgets/controls"
          }
        },
        "46480bc57c0541d9897c68150882bb43": {
          "model_module": "@jupyter-widgets/base",
          "model_name": "LayoutModel",
          "model_module_version": "1.2.0",
          "state": {
            "_view_name": "LayoutView",
            "grid_template_rows": null,
            "right": null,
            "justify_content": null,
            "_view_module": "@jupyter-widgets/base",
            "overflow": null,
            "_model_module_version": "1.2.0",
            "_view_count": null,
            "flex_flow": null,
            "width": null,
            "min_width": null,
            "border": null,
            "align_items": null,
            "bottom": null,
            "_model_module": "@jupyter-widgets/base",
            "top": null,
            "grid_column": null,
            "overflow_y": null,
            "overflow_x": null,
            "grid_auto_flow": null,
            "grid_area": null,
            "grid_template_columns": null,
            "flex": null,
            "_model_name": "LayoutModel",
            "justify_items": null,
            "grid_row": null,
            "max_height": null,
            "align_content": null,
            "visibility": null,
            "align_self": null,
            "height": null,
            "min_height": null,
            "padding": null,
            "grid_auto_rows": null,
            "grid_gap": null,
            "max_width": null,
            "order": null,
            "_view_module_version": "1.2.0",
            "grid_template_areas": null,
            "object_position": null,
            "object_fit": null,
            "grid_auto_columns": null,
            "margin": null,
            "display": null,
            "left": null
          }
        },
        "7c6a610ed890400e943c1ec7f7b9f681": {
          "model_module": "@jupyter-widgets/controls",
          "model_name": "DescriptionStyleModel",
          "model_module_version": "1.5.0",
          "state": {
            "_view_name": "StyleView",
            "_model_name": "DescriptionStyleModel",
            "description_width": "",
            "_view_module": "@jupyter-widgets/base",
            "_model_module_version": "1.5.0",
            "_view_count": null,
            "_view_module_version": "1.2.0",
            "_model_module": "@jupyter-widgets/controls"
          }
        },
        "ce6266519676487b9975fd3885e4fb56": {
          "model_module": "@jupyter-widgets/base",
          "model_name": "LayoutModel",
          "model_module_version": "1.2.0",
          "state": {
            "_view_name": "LayoutView",
            "grid_template_rows": null,
            "right": null,
            "justify_content": null,
            "_view_module": "@jupyter-widgets/base",
            "overflow": null,
            "_model_module_version": "1.2.0",
            "_view_count": null,
            "flex_flow": null,
            "width": null,
            "min_width": null,
            "border": null,
            "align_items": null,
            "bottom": null,
            "_model_module": "@jupyter-widgets/base",
            "top": null,
            "grid_column": null,
            "overflow_y": null,
            "overflow_x": null,
            "grid_auto_flow": null,
            "grid_area": null,
            "grid_template_columns": null,
            "flex": null,
            "_model_name": "LayoutModel",
            "justify_items": null,
            "grid_row": null,
            "max_height": null,
            "align_content": null,
            "visibility": null,
            "align_self": null,
            "height": null,
            "min_height": null,
            "padding": null,
            "grid_auto_rows": null,
            "grid_gap": null,
            "max_width": null,
            "order": null,
            "_view_module_version": "1.2.0",
            "grid_template_areas": null,
            "object_position": null,
            "object_fit": null,
            "grid_auto_columns": null,
            "margin": null,
            "display": null,
            "left": null
          }
        },
        "2e8f097a5ba74bb7b57b22809d19e8dd": {
          "model_module": "@jupyter-widgets/controls",
          "model_name": "HBoxModel",
          "model_module_version": "1.5.0",
          "state": {
            "_view_name": "HBoxView",
            "_dom_classes": [],
            "_model_name": "HBoxModel",
            "_view_module": "@jupyter-widgets/controls",
            "_model_module_version": "1.5.0",
            "_view_count": null,
            "_view_module_version": "1.5.0",
            "box_style": "",
            "layout": "IPY_MODEL_73a0b9cd9fd74bf882d382f7c3422216",
            "_model_module": "@jupyter-widgets/controls",
            "children": [
              "IPY_MODEL_1a329a45a0534fc7ad0659ef1d36c340",
              "IPY_MODEL_17b2a0786fd245f79a2e88152409eaa4",
              "IPY_MODEL_6fed7fe9ad6e4f66b6b1572843ac4cca"
            ]
          }
        },
        "73a0b9cd9fd74bf882d382f7c3422216": {
          "model_module": "@jupyter-widgets/base",
          "model_name": "LayoutModel",
          "model_module_version": "1.2.0",
          "state": {
            "_view_name": "LayoutView",
            "grid_template_rows": null,
            "right": null,
            "justify_content": null,
            "_view_module": "@jupyter-widgets/base",
            "overflow": null,
            "_model_module_version": "1.2.0",
            "_view_count": null,
            "flex_flow": null,
            "width": null,
            "min_width": null,
            "border": null,
            "align_items": null,
            "bottom": null,
            "_model_module": "@jupyter-widgets/base",
            "top": null,
            "grid_column": null,
            "overflow_y": null,
            "overflow_x": null,
            "grid_auto_flow": null,
            "grid_area": null,
            "grid_template_columns": null,
            "flex": null,
            "_model_name": "LayoutModel",
            "justify_items": null,
            "grid_row": null,
            "max_height": null,
            "align_content": null,
            "visibility": null,
            "align_self": null,
            "height": null,
            "min_height": null,
            "padding": null,
            "grid_auto_rows": null,
            "grid_gap": null,
            "max_width": null,
            "order": null,
            "_view_module_version": "1.2.0",
            "grid_template_areas": null,
            "object_position": null,
            "object_fit": null,
            "grid_auto_columns": null,
            "margin": null,
            "display": null,
            "left": null
          }
        },
        "1a329a45a0534fc7ad0659ef1d36c340": {
          "model_module": "@jupyter-widgets/controls",
          "model_name": "HTMLModel",
          "model_module_version": "1.5.0",
          "state": {
            "_view_name": "HTMLView",
            "style": "IPY_MODEL_7e188db77a8c4249bd4a1926dd75c41c",
            "_dom_classes": [],
            "description": "",
            "_model_name": "HTMLModel",
            "placeholder": "​",
            "_view_module": "@jupyter-widgets/controls",
            "_model_module_version": "1.5.0",
            "value": "Downloading: 100%",
            "_view_count": null,
            "_view_module_version": "1.5.0",
            "description_tooltip": null,
            "_model_module": "@jupyter-widgets/controls",
            "layout": "IPY_MODEL_7d443592a879497887535dea384783da"
          }
        },
        "17b2a0786fd245f79a2e88152409eaa4": {
          "model_module": "@jupyter-widgets/controls",
          "model_name": "FloatProgressModel",
          "model_module_version": "1.5.0",
          "state": {
            "_view_name": "ProgressView",
            "style": "IPY_MODEL_a71dd38192aa4b24bb605661f9c9884e",
            "_dom_classes": [],
            "description": "",
            "_model_name": "FloatProgressModel",
            "bar_style": "success",
            "max": 824793,
            "_view_module": "@jupyter-widgets/controls",
            "_model_module_version": "1.5.0",
            "value": 824793,
            "_view_count": null,
            "_view_module_version": "1.5.0",
            "orientation": "horizontal",
            "min": 0,
            "description_tooltip": null,
            "_model_module": "@jupyter-widgets/controls",
            "layout": "IPY_MODEL_c28f6ecd672b49778443b4f66e67ce76"
          }
        },
        "6fed7fe9ad6e4f66b6b1572843ac4cca": {
          "model_module": "@jupyter-widgets/controls",
          "model_name": "HTMLModel",
          "model_module_version": "1.5.0",
          "state": {
            "_view_name": "HTMLView",
            "style": "IPY_MODEL_cc0acb44f3814153b99ae38ecb5337e7",
            "_dom_classes": [],
            "description": "",
            "_model_name": "HTMLModel",
            "placeholder": "​",
            "_view_module": "@jupyter-widgets/controls",
            "_model_module_version": "1.5.0",
            "value": " 825k/825k [00:00&lt;00:00, 639kB/s]",
            "_view_count": null,
            "_view_module_version": "1.5.0",
            "description_tooltip": null,
            "_model_module": "@jupyter-widgets/controls",
            "layout": "IPY_MODEL_a73ef3529c3a4cf3bde4fa1f5026e33d"
          }
        },
        "7e188db77a8c4249bd4a1926dd75c41c": {
          "model_module": "@jupyter-widgets/controls",
          "model_name": "DescriptionStyleModel",
          "model_module_version": "1.5.0",
          "state": {
            "_view_name": "StyleView",
            "_model_name": "DescriptionStyleModel",
            "description_width": "",
            "_view_module": "@jupyter-widgets/base",
            "_model_module_version": "1.5.0",
            "_view_count": null,
            "_view_module_version": "1.2.0",
            "_model_module": "@jupyter-widgets/controls"
          }
        },
        "7d443592a879497887535dea384783da": {
          "model_module": "@jupyter-widgets/base",
          "model_name": "LayoutModel",
          "model_module_version": "1.2.0",
          "state": {
            "_view_name": "LayoutView",
            "grid_template_rows": null,
            "right": null,
            "justify_content": null,
            "_view_module": "@jupyter-widgets/base",
            "overflow": null,
            "_model_module_version": "1.2.0",
            "_view_count": null,
            "flex_flow": null,
            "width": null,
            "min_width": null,
            "border": null,
            "align_items": null,
            "bottom": null,
            "_model_module": "@jupyter-widgets/base",
            "top": null,
            "grid_column": null,
            "overflow_y": null,
            "overflow_x": null,
            "grid_auto_flow": null,
            "grid_area": null,
            "grid_template_columns": null,
            "flex": null,
            "_model_name": "LayoutModel",
            "justify_items": null,
            "grid_row": null,
            "max_height": null,
            "align_content": null,
            "visibility": null,
            "align_self": null,
            "height": null,
            "min_height": null,
            "padding": null,
            "grid_auto_rows": null,
            "grid_gap": null,
            "max_width": null,
            "order": null,
            "_view_module_version": "1.2.0",
            "grid_template_areas": null,
            "object_position": null,
            "object_fit": null,
            "grid_auto_columns": null,
            "margin": null,
            "display": null,
            "left": null
          }
        },
        "a71dd38192aa4b24bb605661f9c9884e": {
          "model_module": "@jupyter-widgets/controls",
          "model_name": "ProgressStyleModel",
          "model_module_version": "1.5.0",
          "state": {
            "_view_name": "StyleView",
            "_model_name": "ProgressStyleModel",
            "description_width": "",
            "_view_module": "@jupyter-widgets/base",
            "_model_module_version": "1.5.0",
            "_view_count": null,
            "_view_module_version": "1.2.0",
            "bar_color": null,
            "_model_module": "@jupyter-widgets/controls"
          }
        },
        "c28f6ecd672b49778443b4f66e67ce76": {
          "model_module": "@jupyter-widgets/base",
          "model_name": "LayoutModel",
          "model_module_version": "1.2.0",
          "state": {
            "_view_name": "LayoutView",
            "grid_template_rows": null,
            "right": null,
            "justify_content": null,
            "_view_module": "@jupyter-widgets/base",
            "overflow": null,
            "_model_module_version": "1.2.0",
            "_view_count": null,
            "flex_flow": null,
            "width": null,
            "min_width": null,
            "border": null,
            "align_items": null,
            "bottom": null,
            "_model_module": "@jupyter-widgets/base",
            "top": null,
            "grid_column": null,
            "overflow_y": null,
            "overflow_x": null,
            "grid_auto_flow": null,
            "grid_area": null,
            "grid_template_columns": null,
            "flex": null,
            "_model_name": "LayoutModel",
            "justify_items": null,
            "grid_row": null,
            "max_height": null,
            "align_content": null,
            "visibility": null,
            "align_self": null,
            "height": null,
            "min_height": null,
            "padding": null,
            "grid_auto_rows": null,
            "grid_gap": null,
            "max_width": null,
            "order": null,
            "_view_module_version": "1.2.0",
            "grid_template_areas": null,
            "object_position": null,
            "object_fit": null,
            "grid_auto_columns": null,
            "margin": null,
            "display": null,
            "left": null
          }
        },
        "cc0acb44f3814153b99ae38ecb5337e7": {
          "model_module": "@jupyter-widgets/controls",
          "model_name": "DescriptionStyleModel",
          "model_module_version": "1.5.0",
          "state": {
            "_view_name": "StyleView",
            "_model_name": "DescriptionStyleModel",
            "description_width": "",
            "_view_module": "@jupyter-widgets/base",
            "_model_module_version": "1.5.0",
            "_view_count": null,
            "_view_module_version": "1.2.0",
            "_model_module": "@jupyter-widgets/controls"
          }
        },
        "a73ef3529c3a4cf3bde4fa1f5026e33d": {
          "model_module": "@jupyter-widgets/base",
          "model_name": "LayoutModel",
          "model_module_version": "1.2.0",
          "state": {
            "_view_name": "LayoutView",
            "grid_template_rows": null,
            "right": null,
            "justify_content": null,
            "_view_module": "@jupyter-widgets/base",
            "overflow": null,
            "_model_module_version": "1.2.0",
            "_view_count": null,
            "flex_flow": null,
            "width": null,
            "min_width": null,
            "border": null,
            "align_items": null,
            "bottom": null,
            "_model_module": "@jupyter-widgets/base",
            "top": null,
            "grid_column": null,
            "overflow_y": null,
            "overflow_x": null,
            "grid_auto_flow": null,
            "grid_area": null,
            "grid_template_columns": null,
            "flex": null,
            "_model_name": "LayoutModel",
            "justify_items": null,
            "grid_row": null,
            "max_height": null,
            "align_content": null,
            "visibility": null,
            "align_self": null,
            "height": null,
            "min_height": null,
            "padding": null,
            "grid_auto_rows": null,
            "grid_gap": null,
            "max_width": null,
            "order": null,
            "_view_module_version": "1.2.0",
            "grid_template_areas": null,
            "object_position": null,
            "object_fit": null,
            "grid_auto_columns": null,
            "margin": null,
            "display": null,
            "left": null
          }
        },
        "1d04796f47dd43df9f17f7dc2944cf75": {
          "model_module": "@jupyter-widgets/controls",
          "model_name": "HBoxModel",
          "model_module_version": "1.5.0",
          "state": {
            "_view_name": "HBoxView",
            "_dom_classes": [],
            "_model_name": "HBoxModel",
            "_view_module": "@jupyter-widgets/controls",
            "_model_module_version": "1.5.0",
            "_view_count": null,
            "_view_module_version": "1.5.0",
            "box_style": "",
            "layout": "IPY_MODEL_b282682ad011471f9b47fbe1503278c3",
            "_model_module": "@jupyter-widgets/controls",
            "children": [
              "IPY_MODEL_c91fda7c11cd4240a2baf314fa7073b5",
              "IPY_MODEL_b5641d1f78e74416a4cf934a7fbd2959",
              "IPY_MODEL_9f5813c5ba6b455282ef05a10d9cb7a1"
            ]
          }
        },
        "b282682ad011471f9b47fbe1503278c3": {
          "model_module": "@jupyter-widgets/base",
          "model_name": "LayoutModel",
          "model_module_version": "1.2.0",
          "state": {
            "_view_name": "LayoutView",
            "grid_template_rows": null,
            "right": null,
            "justify_content": null,
            "_view_module": "@jupyter-widgets/base",
            "overflow": null,
            "_model_module_version": "1.2.0",
            "_view_count": null,
            "flex_flow": null,
            "width": null,
            "min_width": null,
            "border": null,
            "align_items": null,
            "bottom": null,
            "_model_module": "@jupyter-widgets/base",
            "top": null,
            "grid_column": null,
            "overflow_y": null,
            "overflow_x": null,
            "grid_auto_flow": null,
            "grid_area": null,
            "grid_template_columns": null,
            "flex": null,
            "_model_name": "LayoutModel",
            "justify_items": null,
            "grid_row": null,
            "max_height": null,
            "align_content": null,
            "visibility": null,
            "align_self": null,
            "height": null,
            "min_height": null,
            "padding": null,
            "grid_auto_rows": null,
            "grid_gap": null,
            "max_width": null,
            "order": null,
            "_view_module_version": "1.2.0",
            "grid_template_areas": null,
            "object_position": null,
            "object_fit": null,
            "grid_auto_columns": null,
            "margin": null,
            "display": null,
            "left": null
          }
        },
        "c91fda7c11cd4240a2baf314fa7073b5": {
          "model_module": "@jupyter-widgets/controls",
          "model_name": "HTMLModel",
          "model_module_version": "1.5.0",
          "state": {
            "_view_name": "HTMLView",
            "style": "IPY_MODEL_8a790c3a6eac4c96af6b3509cb88965b",
            "_dom_classes": [],
            "description": "",
            "_model_name": "HTMLModel",
            "placeholder": "​",
            "_view_module": "@jupyter-widgets/controls",
            "_model_module_version": "1.5.0",
            "value": "Downloading: 100%",
            "_view_count": null,
            "_view_module_version": "1.5.0",
            "description_tooltip": null,
            "_model_module": "@jupyter-widgets/controls",
            "layout": "IPY_MODEL_e7dd8f610d7a45c7af1b17404c3b5a55"
          }
        },
        "b5641d1f78e74416a4cf934a7fbd2959": {
          "model_module": "@jupyter-widgets/controls",
          "model_name": "FloatProgressModel",
          "model_module_version": "1.5.0",
          "state": {
            "_view_name": "ProgressView",
            "style": "IPY_MODEL_f6dde4bcb010493d9d8af3f461b648c5",
            "_dom_classes": [],
            "description": "",
            "_model_name": "FloatProgressModel",
            "bar_style": "success",
            "max": 2642362,
            "_view_module": "@jupyter-widgets/controls",
            "_model_module_version": "1.5.0",
            "value": 2642362,
            "_view_count": null,
            "_view_module_version": "1.5.0",
            "orientation": "horizontal",
            "min": 0,
            "description_tooltip": null,
            "_model_module": "@jupyter-widgets/controls",
            "layout": "IPY_MODEL_72afb0df85df496f8c020deba765ecd1"
          }
        },
        "9f5813c5ba6b455282ef05a10d9cb7a1": {
          "model_module": "@jupyter-widgets/controls",
          "model_name": "HTMLModel",
          "model_module_version": "1.5.0",
          "state": {
            "_view_name": "HTMLView",
            "style": "IPY_MODEL_bcd2d1f38ea14de29ed49dd83e458576",
            "_dom_classes": [],
            "description": "",
            "_model_name": "HTMLModel",
            "placeholder": "​",
            "_view_module": "@jupyter-widgets/controls",
            "_model_module_version": "1.5.0",
            "value": " 2.64M/2.64M [00:00&lt;00:00, 5.60MB/s]",
            "_view_count": null,
            "_view_module_version": "1.5.0",
            "description_tooltip": null,
            "_model_module": "@jupyter-widgets/controls",
            "layout": "IPY_MODEL_6a0b192c63244a9690f45ad9653715da"
          }
        },
        "8a790c3a6eac4c96af6b3509cb88965b": {
          "model_module": "@jupyter-widgets/controls",
          "model_name": "DescriptionStyleModel",
          "model_module_version": "1.5.0",
          "state": {
            "_view_name": "StyleView",
            "_model_name": "DescriptionStyleModel",
            "description_width": "",
            "_view_module": "@jupyter-widgets/base",
            "_model_module_version": "1.5.0",
            "_view_count": null,
            "_view_module_version": "1.2.0",
            "_model_module": "@jupyter-widgets/controls"
          }
        },
        "e7dd8f610d7a45c7af1b17404c3b5a55": {
          "model_module": "@jupyter-widgets/base",
          "model_name": "LayoutModel",
          "model_module_version": "1.2.0",
          "state": {
            "_view_name": "LayoutView",
            "grid_template_rows": null,
            "right": null,
            "justify_content": null,
            "_view_module": "@jupyter-widgets/base",
            "overflow": null,
            "_model_module_version": "1.2.0",
            "_view_count": null,
            "flex_flow": null,
            "width": null,
            "min_width": null,
            "border": null,
            "align_items": null,
            "bottom": null,
            "_model_module": "@jupyter-widgets/base",
            "top": null,
            "grid_column": null,
            "overflow_y": null,
            "overflow_x": null,
            "grid_auto_flow": null,
            "grid_area": null,
            "grid_template_columns": null,
            "flex": null,
            "_model_name": "LayoutModel",
            "justify_items": null,
            "grid_row": null,
            "max_height": null,
            "align_content": null,
            "visibility": null,
            "align_self": null,
            "height": null,
            "min_height": null,
            "padding": null,
            "grid_auto_rows": null,
            "grid_gap": null,
            "max_width": null,
            "order": null,
            "_view_module_version": "1.2.0",
            "grid_template_areas": null,
            "object_position": null,
            "object_fit": null,
            "grid_auto_columns": null,
            "margin": null,
            "display": null,
            "left": null
          }
        },
        "f6dde4bcb010493d9d8af3f461b648c5": {
          "model_module": "@jupyter-widgets/controls",
          "model_name": "ProgressStyleModel",
          "model_module_version": "1.5.0",
          "state": {
            "_view_name": "StyleView",
            "_model_name": "ProgressStyleModel",
            "description_width": "",
            "_view_module": "@jupyter-widgets/base",
            "_model_module_version": "1.5.0",
            "_view_count": null,
            "_view_module_version": "1.2.0",
            "bar_color": null,
            "_model_module": "@jupyter-widgets/controls"
          }
        },
        "72afb0df85df496f8c020deba765ecd1": {
          "model_module": "@jupyter-widgets/base",
          "model_name": "LayoutModel",
          "model_module_version": "1.2.0",
          "state": {
            "_view_name": "LayoutView",
            "grid_template_rows": null,
            "right": null,
            "justify_content": null,
            "_view_module": "@jupyter-widgets/base",
            "overflow": null,
            "_model_module_version": "1.2.0",
            "_view_count": null,
            "flex_flow": null,
            "width": null,
            "min_width": null,
            "border": null,
            "align_items": null,
            "bottom": null,
            "_model_module": "@jupyter-widgets/base",
            "top": null,
            "grid_column": null,
            "overflow_y": null,
            "overflow_x": null,
            "grid_auto_flow": null,
            "grid_area": null,
            "grid_template_columns": null,
            "flex": null,
            "_model_name": "LayoutModel",
            "justify_items": null,
            "grid_row": null,
            "max_height": null,
            "align_content": null,
            "visibility": null,
            "align_self": null,
            "height": null,
            "min_height": null,
            "padding": null,
            "grid_auto_rows": null,
            "grid_gap": null,
            "max_width": null,
            "order": null,
            "_view_module_version": "1.2.0",
            "grid_template_areas": null,
            "object_position": null,
            "object_fit": null,
            "grid_auto_columns": null,
            "margin": null,
            "display": null,
            "left": null
          }
        },
        "bcd2d1f38ea14de29ed49dd83e458576": {
          "model_module": "@jupyter-widgets/controls",
          "model_name": "DescriptionStyleModel",
          "model_module_version": "1.5.0",
          "state": {
            "_view_name": "StyleView",
            "_model_name": "DescriptionStyleModel",
            "description_width": "",
            "_view_module": "@jupyter-widgets/base",
            "_model_module_version": "1.5.0",
            "_view_count": null,
            "_view_module_version": "1.2.0",
            "_model_module": "@jupyter-widgets/controls"
          }
        },
        "6a0b192c63244a9690f45ad9653715da": {
          "model_module": "@jupyter-widgets/base",
          "model_name": "LayoutModel",
          "model_module_version": "1.2.0",
          "state": {
            "_view_name": "LayoutView",
            "grid_template_rows": null,
            "right": null,
            "justify_content": null,
            "_view_module": "@jupyter-widgets/base",
            "overflow": null,
            "_model_module_version": "1.2.0",
            "_view_count": null,
            "flex_flow": null,
            "width": null,
            "min_width": null,
            "border": null,
            "align_items": null,
            "bottom": null,
            "_model_module": "@jupyter-widgets/base",
            "top": null,
            "grid_column": null,
            "overflow_y": null,
            "overflow_x": null,
            "grid_auto_flow": null,
            "grid_area": null,
            "grid_template_columns": null,
            "flex": null,
            "_model_name": "LayoutModel",
            "justify_items": null,
            "grid_row": null,
            "max_height": null,
            "align_content": null,
            "visibility": null,
            "align_self": null,
            "height": null,
            "min_height": null,
            "padding": null,
            "grid_auto_rows": null,
            "grid_gap": null,
            "max_width": null,
            "order": null,
            "_view_module_version": "1.2.0",
            "grid_template_areas": null,
            "object_position": null,
            "object_fit": null,
            "grid_auto_columns": null,
            "margin": null,
            "display": null,
            "left": null
          }
        },
        "0c7db08ab1f04ddaaa22f9a1193a525f": {
          "model_module": "@jupyter-widgets/controls",
          "model_name": "HBoxModel",
          "model_module_version": "1.5.0",
          "state": {
            "_view_name": "HBoxView",
            "_dom_classes": [],
            "_model_name": "HBoxModel",
            "_view_module": "@jupyter-widgets/controls",
            "_model_module_version": "1.5.0",
            "_view_count": null,
            "_view_module_version": "1.5.0",
            "box_style": "",
            "layout": "IPY_MODEL_83b250e8acd246108b18e8b67d614f78",
            "_model_module": "@jupyter-widgets/controls",
            "children": [
              "IPY_MODEL_ec87de1261cd417ba7cce78be371eebe",
              "IPY_MODEL_9727f51eda134c5e8c1ec4ed176c9918",
              "IPY_MODEL_ba701ad999b3465989cdffc7ddf6e7ed"
            ]
          }
        },
        "83b250e8acd246108b18e8b67d614f78": {
          "model_module": "@jupyter-widgets/base",
          "model_name": "LayoutModel",
          "model_module_version": "1.2.0",
          "state": {
            "_view_name": "LayoutView",
            "grid_template_rows": null,
            "right": null,
            "justify_content": null,
            "_view_module": "@jupyter-widgets/base",
            "overflow": null,
            "_model_module_version": "1.2.0",
            "_view_count": null,
            "flex_flow": null,
            "width": null,
            "min_width": null,
            "border": null,
            "align_items": null,
            "bottom": null,
            "_model_module": "@jupyter-widgets/base",
            "top": null,
            "grid_column": null,
            "overflow_y": null,
            "overflow_x": null,
            "grid_auto_flow": null,
            "grid_area": null,
            "grid_template_columns": null,
            "flex": null,
            "_model_name": "LayoutModel",
            "justify_items": null,
            "grid_row": null,
            "max_height": null,
            "align_content": null,
            "visibility": null,
            "align_self": null,
            "height": null,
            "min_height": null,
            "padding": null,
            "grid_auto_rows": null,
            "grid_gap": null,
            "max_width": null,
            "order": null,
            "_view_module_version": "1.2.0",
            "grid_template_areas": null,
            "object_position": null,
            "object_fit": null,
            "grid_auto_columns": null,
            "margin": null,
            "display": null,
            "left": null
          }
        },
        "ec87de1261cd417ba7cce78be371eebe": {
          "model_module": "@jupyter-widgets/controls",
          "model_name": "HTMLModel",
          "model_module_version": "1.5.0",
          "state": {
            "_view_name": "HTMLView",
            "style": "IPY_MODEL_06bc206c07f248b8b9c392522524660a",
            "_dom_classes": [],
            "description": "",
            "_model_name": "HTMLModel",
            "placeholder": "​",
            "_view_module": "@jupyter-widgets/controls",
            "_model_module_version": "1.5.0",
            "value": "Downloading: 100%",
            "_view_count": null,
            "_view_module_version": "1.5.0",
            "description_tooltip": null,
            "_model_module": "@jupyter-widgets/controls",
            "layout": "IPY_MODEL_4072b42caf334e229364db448bc6ec52"
          }
        },
        "9727f51eda134c5e8c1ec4ed176c9918": {
          "model_module": "@jupyter-widgets/controls",
          "model_name": "FloatProgressModel",
          "model_module_version": "1.5.0",
          "state": {
            "_view_name": "ProgressView",
            "style": "IPY_MODEL_67d466b84168412e9dc10b973b6a04b4",
            "_dom_classes": [],
            "description": "",
            "_model_name": "FloatProgressModel",
            "bar_style": "success",
            "max": 112,
            "_view_module": "@jupyter-widgets/controls",
            "_model_module_version": "1.5.0",
            "value": 112,
            "_view_count": null,
            "_view_module_version": "1.5.0",
            "orientation": "horizontal",
            "min": 0,
            "description_tooltip": null,
            "_model_module": "@jupyter-widgets/controls",
            "layout": "IPY_MODEL_9a5f852b71414d589c3c98a887d32ca3"
          }
        },
        "ba701ad999b3465989cdffc7ddf6e7ed": {
          "model_module": "@jupyter-widgets/controls",
          "model_name": "HTMLModel",
          "model_module_version": "1.5.0",
          "state": {
            "_view_name": "HTMLView",
            "style": "IPY_MODEL_da471eb5b814430c8390c02ee72a897a",
            "_dom_classes": [],
            "description": "",
            "_model_name": "HTMLModel",
            "placeholder": "​",
            "_view_module": "@jupyter-widgets/controls",
            "_model_module_version": "1.5.0",
            "value": " 112/112 [00:00&lt;00:00, 2.96kB/s]",
            "_view_count": null,
            "_view_module_version": "1.5.0",
            "description_tooltip": null,
            "_model_module": "@jupyter-widgets/controls",
            "layout": "IPY_MODEL_3e1fa0d7d9df4ae4a980b2f08aaf625c"
          }
        },
        "06bc206c07f248b8b9c392522524660a": {
          "model_module": "@jupyter-widgets/controls",
          "model_name": "DescriptionStyleModel",
          "model_module_version": "1.5.0",
          "state": {
            "_view_name": "StyleView",
            "_model_name": "DescriptionStyleModel",
            "description_width": "",
            "_view_module": "@jupyter-widgets/base",
            "_model_module_version": "1.5.0",
            "_view_count": null,
            "_view_module_version": "1.2.0",
            "_model_module": "@jupyter-widgets/controls"
          }
        },
        "4072b42caf334e229364db448bc6ec52": {
          "model_module": "@jupyter-widgets/base",
          "model_name": "LayoutModel",
          "model_module_version": "1.2.0",
          "state": {
            "_view_name": "LayoutView",
            "grid_template_rows": null,
            "right": null,
            "justify_content": null,
            "_view_module": "@jupyter-widgets/base",
            "overflow": null,
            "_model_module_version": "1.2.0",
            "_view_count": null,
            "flex_flow": null,
            "width": null,
            "min_width": null,
            "border": null,
            "align_items": null,
            "bottom": null,
            "_model_module": "@jupyter-widgets/base",
            "top": null,
            "grid_column": null,
            "overflow_y": null,
            "overflow_x": null,
            "grid_auto_flow": null,
            "grid_area": null,
            "grid_template_columns": null,
            "flex": null,
            "_model_name": "LayoutModel",
            "justify_items": null,
            "grid_row": null,
            "max_height": null,
            "align_content": null,
            "visibility": null,
            "align_self": null,
            "height": null,
            "min_height": null,
            "padding": null,
            "grid_auto_rows": null,
            "grid_gap": null,
            "max_width": null,
            "order": null,
            "_view_module_version": "1.2.0",
            "grid_template_areas": null,
            "object_position": null,
            "object_fit": null,
            "grid_auto_columns": null,
            "margin": null,
            "display": null,
            "left": null
          }
        },
        "67d466b84168412e9dc10b973b6a04b4": {
          "model_module": "@jupyter-widgets/controls",
          "model_name": "ProgressStyleModel",
          "model_module_version": "1.5.0",
          "state": {
            "_view_name": "StyleView",
            "_model_name": "ProgressStyleModel",
            "description_width": "",
            "_view_module": "@jupyter-widgets/base",
            "_model_module_version": "1.5.0",
            "_view_count": null,
            "_view_module_version": "1.2.0",
            "bar_color": null,
            "_model_module": "@jupyter-widgets/controls"
          }
        },
        "9a5f852b71414d589c3c98a887d32ca3": {
          "model_module": "@jupyter-widgets/base",
          "model_name": "LayoutModel",
          "model_module_version": "1.2.0",
          "state": {
            "_view_name": "LayoutView",
            "grid_template_rows": null,
            "right": null,
            "justify_content": null,
            "_view_module": "@jupyter-widgets/base",
            "overflow": null,
            "_model_module_version": "1.2.0",
            "_view_count": null,
            "flex_flow": null,
            "width": null,
            "min_width": null,
            "border": null,
            "align_items": null,
            "bottom": null,
            "_model_module": "@jupyter-widgets/base",
            "top": null,
            "grid_column": null,
            "overflow_y": null,
            "overflow_x": null,
            "grid_auto_flow": null,
            "grid_area": null,
            "grid_template_columns": null,
            "flex": null,
            "_model_name": "LayoutModel",
            "justify_items": null,
            "grid_row": null,
            "max_height": null,
            "align_content": null,
            "visibility": null,
            "align_self": null,
            "height": null,
            "min_height": null,
            "padding": null,
            "grid_auto_rows": null,
            "grid_gap": null,
            "max_width": null,
            "order": null,
            "_view_module_version": "1.2.0",
            "grid_template_areas": null,
            "object_position": null,
            "object_fit": null,
            "grid_auto_columns": null,
            "margin": null,
            "display": null,
            "left": null
          }
        },
        "da471eb5b814430c8390c02ee72a897a": {
          "model_module": "@jupyter-widgets/controls",
          "model_name": "DescriptionStyleModel",
          "model_module_version": "1.5.0",
          "state": {
            "_view_name": "StyleView",
            "_model_name": "DescriptionStyleModel",
            "description_width": "",
            "_view_module": "@jupyter-widgets/base",
            "_model_module_version": "1.5.0",
            "_view_count": null,
            "_view_module_version": "1.2.0",
            "_model_module": "@jupyter-widgets/controls"
          }
        },
        "3e1fa0d7d9df4ae4a980b2f08aaf625c": {
          "model_module": "@jupyter-widgets/base",
          "model_name": "LayoutModel",
          "model_module_version": "1.2.0",
          "state": {
            "_view_name": "LayoutView",
            "grid_template_rows": null,
            "right": null,
            "justify_content": null,
            "_view_module": "@jupyter-widgets/base",
            "overflow": null,
            "_model_module_version": "1.2.0",
            "_view_count": null,
            "flex_flow": null,
            "width": null,
            "min_width": null,
            "border": null,
            "align_items": null,
            "bottom": null,
            "_model_module": "@jupyter-widgets/base",
            "top": null,
            "grid_column": null,
            "overflow_y": null,
            "overflow_x": null,
            "grid_auto_flow": null,
            "grid_area": null,
            "grid_template_columns": null,
            "flex": null,
            "_model_name": "LayoutModel",
            "justify_items": null,
            "grid_row": null,
            "max_height": null,
            "align_content": null,
            "visibility": null,
            "align_self": null,
            "height": null,
            "min_height": null,
            "padding": null,
            "grid_auto_rows": null,
            "grid_gap": null,
            "max_width": null,
            "order": null,
            "_view_module_version": "1.2.0",
            "grid_template_areas": null,
            "object_position": null,
            "object_fit": null,
            "grid_auto_columns": null,
            "margin": null,
            "display": null,
            "left": null
          }
        }
      }
    }
  },
  "cells": [
    {
      "cell_type": "code",
      "metadata": {
        "colab": {
          "base_uri": "https://localhost:8080/"
        },
        "id": "TuNalfQl8dgn",
        "outputId": "15a56f4f-442a-48c6-bba9-988e7c37723e"
      },
      "source": [
        "from google.colab import drive\n",
        "drive.mount('/content/drive')"
      ],
      "execution_count": null,
      "outputs": [
        {
          "output_type": "stream",
          "name": "stdout",
          "text": [
            "Mounted at /content/drive\n"
          ]
        }
      ]
    },
    {
      "cell_type": "code",
      "metadata": {
        "colab": {
          "base_uri": "https://localhost:8080/"
        },
        "id": "Td7B5WcMahNI",
        "outputId": "d8428564-1936-40ad-cebd-8f144d1a8494"
      },
      "source": [
        "import torch\n",
        "\n",
        "# If there's a GPU available...\n",
        "if torch.cuda.is_available():    \n",
        "\n",
        "    # Tell PyTorch to use the GPU.\n",
        "    device = torch.device(\"cuda\")\n",
        "\n",
        "    print('There are %d GPU(s) available.' % torch.cuda.device_count())\n",
        "\n",
        "    print('We will use the GPU:', torch.cuda.get_device_name(0))\n",
        "    !nvidia-smi\n",
        "\n",
        "# If not...\n",
        "else:\n",
        "    print('No GPU available, using the CPU instead.')\n",
        "    device = torch.device(\"cpu\")"
      ],
      "execution_count": null,
      "outputs": [
        {
          "output_type": "stream",
          "name": "stdout",
          "text": [
            "There are 1 GPU(s) available.\n",
            "We will use the GPU: Tesla K80\n",
            "Wed Sep 29 10:49:54 2021       \n",
            "+-----------------------------------------------------------------------------+\n",
            "| NVIDIA-SMI 470.63.01    Driver Version: 460.32.03    CUDA Version: 11.2     |\n",
            "|-------------------------------+----------------------+----------------------+\n",
            "| GPU  Name        Persistence-M| Bus-Id        Disp.A | Volatile Uncorr. ECC |\n",
            "| Fan  Temp  Perf  Pwr:Usage/Cap|         Memory-Usage | GPU-Util  Compute M. |\n",
            "|                               |                      |               MIG M. |\n",
            "|===============================+======================+======================|\n",
            "|   0  Tesla K80           Off  | 00000000:00:04.0 Off |                    0 |\n",
            "| N/A   69C    P8    32W / 149W |      3MiB / 11441MiB |      0%      Default |\n",
            "|                               |                      |                  N/A |\n",
            "+-------------------------------+----------------------+----------------------+\n",
            "                                                                               \n",
            "+-----------------------------------------------------------------------------+\n",
            "| Processes:                                                                  |\n",
            "|  GPU   GI   CI        PID   Type   Process name                  GPU Memory |\n",
            "|        ID   ID                                                   Usage      |\n",
            "|=============================================================================|\n",
            "|  No running processes found                                                 |\n",
            "+-----------------------------------------------------------------------------+\n"
          ]
        }
      ]
    },
    {
      "cell_type": "code",
      "metadata": {
        "colab": {
          "base_uri": "https://localhost:8080/"
        },
        "id": "lv_G6sgxeEIq",
        "outputId": "8e455383-47a6-4fce-ab40-153a0c77884b"
      },
      "source": [
        "#!pip install optuna==2.3.0\n",
        "#!pip install transformers==4.2.1\n",
        "!pip install optuna\n",
        "!pip install transformers\n",
        "!pip install farasapy\n",
        "!pip install pyarabic\n",
        "!git clone https://github.com/aub-mind/arabert"
      ],
      "execution_count": null,
      "outputs": [
        {
          "output_type": "stream",
          "name": "stdout",
          "text": [
            "Installing collected packages: tokenizers, sacremoses, pyyaml, huggingface-hub, transformers\n",
            "  Attempting uninstall: pyyaml\n",
            "    Found existing installation: PyYAML 3.13\n",
            "    Uninstalling PyYAML-3.13:\n",
            "      Successfully uninstalled PyYAML-3.13\n",
            "Successfully installed huggingface-hub-0.0.17 pyyaml-5.4.1 sacremoses-0.0.46 tokenizers-0.10.3 transformers-4.11.0\n",
            "Collecting farasapy\n",
            "  Downloading farasapy-0.0.14-py3-none-any.whl (11 kB)\n",
            "Requirement already satisfied: tqdm in /usr/local/lib/python3.7/dist-packages (from farasapy) (4.62.3)\n",
            "Requirement already satisfied: requests in /usr/local/lib/python3.7/dist-packages (from farasapy) (2.23.0)\n",
            "Requirement already satisfied: idna<3,>=2.5 in /usr/local/lib/python3.7/dist-packages (from requests->farasapy) (2.10)\n",
            "Requirement already satisfied: certifi>=2017.4.17 in /usr/local/lib/python3.7/dist-packages (from requests->farasapy) (2021.5.30)\n",
            "Requirement already satisfied: urllib3!=1.25.0,!=1.25.1,<1.26,>=1.21.1 in /usr/local/lib/python3.7/dist-packages (from requests->farasapy) (1.24.3)\n",
            "Requirement already satisfied: chardet<4,>=3.0.2 in /usr/local/lib/python3.7/dist-packages (from requests->farasapy) (3.0.4)\n",
            "Installing collected packages: farasapy\n",
            "Successfully installed farasapy-0.0.14\n",
            "Collecting pyarabic\n",
            "  Downloading PyArabic-0.6.14-py3-none-any.whl (126 kB)\n",
            "\u001b[K     |████████████████████████████████| 126 kB 5.2 MB/s \n",
            "\u001b[?25hRequirement already satisfied: six>=1.14.0 in /usr/local/lib/python3.7/dist-packages (from pyarabic) (1.15.0)\n",
            "Installing collected packages: pyarabic\n",
            "Successfully installed pyarabic-0.6.14\n",
            "Cloning into 'arabert'...\n",
            "remote: Enumerating objects: 544, done.\u001b[K\n",
            "remote: Counting objects: 100% (330/330), done.\u001b[K\n",
            "remote: Compressing objects: 100% (237/237), done.\u001b[K\n",
            "remote: Total 544 (delta 175), reused 237 (delta 87), pack-reused 214\u001b[K\n",
            "Receiving objects: 100% (544/544), 9.15 MiB | 22.97 MiB/s, done.\n",
            "Resolving deltas: 100% (298/298), done.\n"
          ]
        }
      ]
    },
    {
      "cell_type": "code",
      "metadata": {
        "id": "hy2gS3vBlSV4"
      },
      "source": [
        "!mkdir data\n",
        "!mkdir train"
      ],
      "execution_count": null,
      "outputs": []
    },
    {
      "cell_type": "code",
      "metadata": {
        "id": "N2naPrEd82an"
      },
      "source": [
        "!cp -r \"/content/drive/MyDrive/Capstone Project\" ."
      ],
      "execution_count": null,
      "outputs": []
    },
    {
      "cell_type": "code",
      "metadata": {
        "id": "mzykHRm2lfSA"
      },
      "source": [
        "import pandas as pd\n",
        "import numpy as np\n",
        "\n",
        "from tqdm import tqdm_notebook as tqdm\n",
        "from sklearn.model_selection import train_test_split\n",
        "all_datasets= []"
      ],
      "execution_count": null,
      "outputs": []
    },
    {
      "cell_type": "code",
      "metadata": {
        "id": "somvtddBlh4d"
      },
      "source": [
        "class CustomDataset:\n",
        "    def __init__(\n",
        "        self,\n",
        "        name,\n",
        "        train,\n",
        "        test,\n",
        "        label_list,\n",
        "    ):\n",
        "        self.name = name\n",
        "        self.train = train\n",
        "        self.test = test\n",
        "        self.label_list = label_list"
      ],
      "execution_count": null,
      "outputs": []
    },
    {
      "cell_type": "code",
      "metadata": {
        "id": "CXmfWJYg-uPK"
      },
      "source": [
        "df_test = pd.read_csv(\"/content/drive/MyDrive/Capstone Project/test.csv\", sep=\"\\t\", header=0)\n",
        "df_train = pd.read_csv(\"/content/drive/MyDrive/Capstone Project/train.csv\", sep=\"\\t\", header=0)"
      ],
      "execution_count": null,
      "outputs": []
    },
    {
      "cell_type": "code",
      "metadata": {
        "colab": {
          "base_uri": "https://localhost:8080/",
          "height": 86
        },
        "id": "DFeyBON7PBJM",
        "outputId": "add70236-1ba5-4f1a-81cb-a4e5b388fa77"
      },
      "source": [
        "df_test['initial'][4]"
      ],
      "execution_count": null,
      "outputs": [
        {
          "output_type": "execute_result",
          "data": {
            "application/vnd.google.colaboratory.intrinsic+json": {
              "type": "string"
            },
            "text/plain": [
              "'في الرابع والعشرين من ديسمبر / كانون الأول2014، حُكم على المدوّن الموريتاني محمد شيخ ولد محمد\\xa0بالموت رميًا بالرصاص، على خلفية مقال نشره قبل أكثر من سنة. كان ذلك أول حكم بالإعدام في قضية ردّة في موريتانيا منذ استقلالها عام 1960.في المقال المعنون “الدين والتدين ولمعلمين“، انتقد شيخ نظام الطوائف الطبقي في بلاده، مشبّهًا إياه بما رآه ممارسات مماثلة في عهد الرسول محمد. على إثر ذلك، اتهم شيخ بإهانة الرسول.“[قضية شيخ] هي مجرد محاولة لكتم صوت كل من يحاول التشكيك في نظام قائم على القمع باستخدام الدين”، يقول سيدو واني، الناشط الموريتاني ضد العنصرية والعبودية، في\\xa0تغريدة\\xa0له على تويتر.محمد شيخ، ذو الثمانية وعشرين عامًا، ضحية جديدة لحكومة قمعية في بلد ذي غالبية مسلمة، كثيرًا ما يستخدم “الردة” و”الكفر” كذرائع لملاحقة من يدعون للإصلاح ويرفعون صوتهم ضد مشاكل سياسية. بحكمها على محمد شيخ بالإعدام، تدعي السلطات الموريتانية أنها تحمي الإسلام والرسول، لكن العقوبة في الغالب لن تحمي سوى النظام الحاكم أمام المزيد من الانتقادات السياسية.معلقًا\\xa0على قضية شيخ، كتب الصحفي برايان ويتيكر، صاحب كتاب “عرب بلا رب“، أن الدين قد أصبح “سلاحًا سياسيًا” في موريتانيا:استخدام الدين كأداة “لتصفية حسابات سياسية”يشير ويتيكر بالفعل إلى ظاهرة أوسع انتشارًا في العالم العربي. كل من السعودية وتونس، اللتين تختلفان عن بعضهما بشدة سياسيًا وثقافيًا، شهدتا قضايا مماثلة في السنوات الأخيرة. في نظام حكم ديني كالموجود في السعودية، فإن الخط الفاصل بين الديني والسياسي ليس واضحًا. نتيجة لذلك، فإن مَن يسائل الوضع القائم أو ينتقد السلطات قد يواجه اتهامات خطيرة على أسس دينية، لا سياسية.كيف يمكن لنظام ما أن يتخلص من خصومه ومنتقديه في بلدان يلعب فيها الدين دورًا رئيسًا في حياة الأغلبية؟ إحدى الطرق لذلك هي زجّهم في السجون واتهامهم بالإساءة إلى الإسلام والرسول. بذلك، لن يهبّ لنجدتهم أحد، تقريبًا.خلال الربيع الماضي،\\xa0حكمت\\xa0السعودية على المدوّن رائف بدوي بألف جلدة والسجن عشرة سنوات بتهمة “الإساءة للإسلام” بعد تأسيسه الشبكة الليبرالية، وهي موقع يحوي مواد نقدية تجاه الشخصيات الدينية العليا والشرطة الدينية في البلاد. لا تركز الشبكة على الإسلام بحد ذاته بقدر ما تركز على شخصيات وأجسام سياسية ودينية بعينها وعلى ممارساتهم. لكن رغم ذلك، أدين رائف بدوي بتهمة “الإساءة للإسلام”.سعاد الشمري، الناشطة السعودية لحقوق المرأة، نشرت تغريدات تنتقد فيها نظام الوصاية الذكورية في بلدها، والتي تلزم النساء بالحصول على موافقة من محرم لممارسة أوجه عديدة من حياتهن، كالسفر والعمل والزواج. اليوم،\\xa0تواجه الشمري\\xa0تهمًا بالسخرية من نصوص دينية وعلماء دين. في تونس، التي تخلو قوانينها من أي تجريم للردة أو الكفر، حكم على جبور مجري وغازي باجي عام 2012 بالسجن سبعة أعوام ونصف بسبب نشر كاريكاتيرات للرسول على الإنترنت.الجدير بالذكر هنا هو أن مجري وباجي كانا مستخدمين عاديين للإنترنت، لا ناشطين سياسيين. استطاع باجي تجنب العقوبة إذ هرب من البلاد قبل اعتقاله، لكن مجري أمضى في السجن ما يزيد عن سنتين، قبل أن\\xa0يطلق سراحه\\xa0العام الماضي بعفو من الرئيس السابق، منصف المرزوقي. راشد الغنوشي، زعيم حركة النهضة الإسلامية في تونس،\\xa0قال\\xa0في حزيران 2013 أن “الكفر ليس جريمة. حرية الاختيار واضحة جدًا في القرآن الذي جاء فيه أن لا إكراه في الدين”. لكن الغنوشي صرح بذلك في واشنطن وليس في تونس. لماذا لم يقل الغنوشي أن “الكفر ليس جريمة” حين زُجّ بمجري في السجن أو حين\\xa0اقترحت حركته قانونًا جديدًا\\xa0لتجريم “الإساءة للمقدسات”؟ إلى جانب من يسمون أنفسهم علمانيي ويساريي تونس، لم يفتح الغنوشي فمه دعمًا لإطلاق سراح مجري، خوفًا من ردة فعل عنيفة من المحافظين، ولئلا يستفز ناخبيه المحتملين.ماذا يقول القرآن حول الكفر؟يبدو أن هذه الحكومات تتجاهل كذلك أن الإسلام رغم تنفيره من الكفر، إلا أنه يتسامح معه. في الواقع، لا ينص القرآن على أي عقاب عليه. الرسول ومتبعوه الأوائل واجهوا الاضطهاد والإساءة من معاصريهم، بما في ذلك الإهانات والسخرية والتشهير. لكن القرآن أمرهم بالصبر وبتجاهل الحوارات الكفرية، بدلًا من إدانتها.الأمر ذاته ينطبق على الردة. فالقرآن لا ينص على أي عقاب دنيوي لأولئك الذين يقررون تغيير دينهم من الإسلام إلى أي دين آخر، أو التخلي عن أي دين بالمطلق، جاء فيه أن “لَا إِكْرَاهَ فِي الدِّينِ” و”وَقُلِ الْحَقُّ مِن رَّبِّكُمْ فَمَن شَاء فَلْيُؤْمِن وَمَن شَاء فَلْيَكْفُرْ”.من الواضح أن القرآن لا يضع للردة والكفر عقوبات كالإعدام والجلد، لكن حكومات بلدان كموريتانيا والسعودية وإيران تستمر في الحكم بعكس ذلك. فالسبب على ما يبدو متأصل في السياسة أكثر من الدين.“يتصرف الحكام العرب وكأنّ الإسلام في خطر لأن مطرقة النقد طالته. ربما هم خائفون على عروشهم من الانهيار”، تقول المدونة التونسية خولة الفرشيشي في\\xa0تدوينة\\xa0لها. “[إنهم] يعرفون جيّدًا أن نقد المؤسسة الدينية وأفكارها هو أول نقرة فأس لزعزعة بنيانهم”.'"
            ]
          },
          "metadata": {},
          "execution_count": 18
        }
      ]
    },
    {
      "cell_type": "code",
      "metadata": {
        "id": "58XQ0UToAS4B"
      },
      "source": [
        "#df_train = df_train.drop(['Text_stem', 'Text_seg'], axis='columns')\n",
        "#df_test = df_test.drop(['Text_stem', 'Text_seg'], axis='columns')\n",
        "df_train = df_train.drop(['Text_stem', 'Text_seg','Belarus In Turmoil',\n",
        "       'How the Karabakh conflict is transforming regional politics',\n",
        "       'Myanmar Coup', 'Myanmar Election 2020', 'NewsFrames',\n",
        "       'أخبار جيدة', 'أخبار عاجلة', 'أديان',\n",
        "       'الأصوات الصاعدة', 'الأعراق والأجناس', 'الألعاب الأولمبية',\n",
        "       'الاقتصاد والأعمال', 'الجسر', 'الدعم الإنساني',\n",
        "       'الهجرة والنزوح', 'انتخابات',\n",
        "       'بود كاست الأصوات العالمية', 'بيئة', 'تاريخ', 'تصوير', 'تطوير', 'تعليم',\n",
        "       'حجب',\n",
        "       'حقوق المختلفين جنسيًا', 'حوارات نحو عالم أفضل',\n",
        "       'دفاع الأصوات العالمية', 'رياضة', 'سياحة وسفر', 'شباب',\n",
        "       'شبكة التكنولوجيا من أجل الشفافية', 'صحة', 'طعام',\n",
        "       'علاقات دولية', 'علم', 'عمل', 'فكاهة', 'قانون',\n",
        "       'قمة الأصوات العالمية 2012', 'قمة الأصوات العالمية 2015', 'كوارث',\n",
        "       'لاجئون', 'لغات', 'مدونة مجتمع الأصوات العالمية',\n",
        "       'مستقبل تكنولوجيا المعلومات والإتصالات في التنمية', 'مشروع RuNet Echo',\n",
        "       'مشروع السبع بلايين نسمة', 'مظاهرات EndSARS# في نيجيريا ضد بطش الشرطة',\n",
        "       'موسيقى', 'وجوه الأصوات العالمية'], axis='columns')\n",
        "\n",
        "df_test = df_test.drop(['Text_stem', 'Text_seg','Belarus In Turmoil',\n",
        "       'How the Karabakh conflict is transforming regional politics',\n",
        "       'Myanmar Coup', 'Myanmar Election 2020', 'NewsFrames',\n",
        "       'أخبار جيدة', 'أخبار عاجلة', 'أديان',\n",
        "       'الأصوات الصاعدة', 'الأعراق والأجناس', 'الألعاب الأولمبية',\n",
        "       'الاقتصاد والأعمال', 'الجسر', 'الدعم الإنساني',\n",
        "       'الهجرة والنزوح', 'انتخابات',\n",
        "       'بود كاست الأصوات العالمية', 'بيئة', 'تاريخ', 'تصوير', 'تطوير', 'تعليم',\n",
        "       'حجب',\n",
        "       'حقوق المختلفين جنسيًا', 'حوارات نحو عالم أفضل',\n",
        "       'دفاع الأصوات العالمية', 'رياضة', 'سياحة وسفر', 'شباب',\n",
        "       'شبكة التكنولوجيا من أجل الشفافية', 'صحة', 'طعام',\n",
        "       'علاقات دولية', 'علم', 'عمل', 'فكاهة', 'قانون',\n",
        "       'قمة الأصوات العالمية 2012', 'قمة الأصوات العالمية 2015', 'كوارث',\n",
        "       'لاجئون', 'لغات', 'مدونة مجتمع الأصوات العالمية',\n",
        "       'مستقبل تكنولوجيا المعلومات والإتصالات في التنمية', 'مشروع RuNet Echo',\n",
        "       'مشروع السبع بلايين نسمة', 'مظاهرات EndSARS# في نيجيريا ضد بطش الشرطة',\n",
        "       'موسيقى', 'وجوه الأصوات العالمية'], axis='columns')"
      ],
      "execution_count": null,
      "outputs": []
    },
    {
      "cell_type": "code",
      "metadata": {
        "colab": {
          "base_uri": "https://localhost:8080/"
        },
        "id": "EeN57oK4AlPb",
        "outputId": "c576196d-589a-452e-bdc5-097d36d53d47"
      },
      "source": [
        "df_train.columns , df_test.columns"
      ],
      "execution_count": null,
      "outputs": [
        {
          "output_type": "execute_result",
          "data": {
            "text/plain": [
              "(Index(['initial', 'COVID-19', 'آداب', 'أصالة', 'أفكار', 'أفلام', 'احتجاج',\n",
              "        'الإعلام والصحافة', 'النساء والنوع', 'النشاط الرقمي', 'تقنية',\n",
              "        'حروب ونزاعات', 'حرية التعبير', 'حقوق الإنسان', 'حكم', 'سياسة',\n",
              "        'صحافة المواطن', 'فنون وثقافة'],\n",
              "       dtype='object'),\n",
              " Index(['initial', 'COVID-19', 'آداب', 'أصالة', 'أفكار', 'أفلام', 'احتجاج',\n",
              "        'الإعلام والصحافة', 'النساء والنوع', 'النشاط الرقمي', 'تقنية',\n",
              "        'حروب ونزاعات', 'حرية التعبير', 'حقوق الإنسان', 'حكم', 'سياسة',\n",
              "        'صحافة المواطن', 'فنون وثقافة'],\n",
              "       dtype='object'))"
            ]
          },
          "metadata": {},
          "execution_count": 20
        }
      ]
    },
    {
      "cell_type": "code",
      "metadata": {
        "colab": {
          "base_uri": "https://localhost:8080/"
        },
        "id": "B7Yf0BL2wz_I",
        "outputId": "7e10da29-02ce-4366-b634-6ea94779d417"
      },
      "source": [
        "label_list_Testing = df_train.columns.to_list()[1:]\n",
        "label_list_Testing"
      ],
      "execution_count": null,
      "outputs": [
        {
          "output_type": "execute_result",
          "data": {
            "text/plain": [
              "['COVID-19',\n",
              " 'آداب',\n",
              " 'أصالة',\n",
              " 'أفكار',\n",
              " 'أفلام',\n",
              " 'احتجاج',\n",
              " 'الإعلام والصحافة',\n",
              " 'النساء والنوع',\n",
              " 'النشاط الرقمي',\n",
              " 'تقنية',\n",
              " 'حروب ونزاعات',\n",
              " 'حرية التعبير',\n",
              " 'حقوق الإنسان',\n",
              " 'حكم',\n",
              " 'سياسة',\n",
              " 'صحافة المواطن',\n",
              " 'فنون وثقافة']"
            ]
          },
          "metadata": {},
          "execution_count": 21
        }
      ]
    },
    {
      "cell_type": "code",
      "metadata": {
        "id": "bQk_0a4jAppu"
      },
      "source": [
        "train_label_list = [row[1:] for row in df_train.to_numpy().tolist()]\n",
        "test_label_list = [row[1:] for row in df_test.to_numpy().tolist()]"
      ],
      "execution_count": null,
      "outputs": []
    },
    {
      "cell_type": "code",
      "metadata": {
        "colab": {
          "base_uri": "https://localhost:8080/"
        },
        "id": "rnjCU7FjBKmo",
        "outputId": "dcbf13cf-a960-4b40-9db9-2a26fb3066eb"
      },
      "source": [
        "len(test_label_list[0])"
      ],
      "execution_count": null,
      "outputs": [
        {
          "output_type": "execute_result",
          "data": {
            "text/plain": [
              "17"
            ]
          },
          "metadata": {},
          "execution_count": 23
        }
      ]
    },
    {
      "cell_type": "code",
      "metadata": {
        "id": "-7LXgk79B4iS"
      },
      "source": [
        "df_train = pd.DataFrame.from_dict({\"text\": list(df_train['initial']),\"label\":train_label_list})\n",
        "df_test = pd.DataFrame.from_dict({\"text\": list(df_test['initial']),\"label\":test_label_list})"
      ],
      "execution_count": null,
      "outputs": []
    },
    {
      "cell_type": "code",
      "metadata": {
        "colab": {
          "base_uri": "https://localhost:8080/",
          "height": 419
        },
        "id": "rZqcLs0GCMUQ",
        "outputId": "fd1f2a48-1911-44b7-9d16-ae0156a8c5b0"
      },
      "source": [
        "df_train"
      ],
      "execution_count": null,
      "outputs": [
        {
          "output_type": "execute_result",
          "data": {
            "text/html": [
              "<div>\n",
              "<style scoped>\n",
              "    .dataframe tbody tr th:only-of-type {\n",
              "        vertical-align: middle;\n",
              "    }\n",
              "\n",
              "    .dataframe tbody tr th {\n",
              "        vertical-align: top;\n",
              "    }\n",
              "\n",
              "    .dataframe thead th {\n",
              "        text-align: right;\n",
              "    }\n",
              "</style>\n",
              "<table border=\"1\" class=\"dataframe\">\n",
              "  <thead>\n",
              "    <tr style=\"text-align: right;\">\n",
              "      <th></th>\n",
              "      <th>text</th>\n",
              "      <th>label</th>\n",
              "    </tr>\n",
              "  </thead>\n",
              "  <tbody>\n",
              "    <tr>\n",
              "      <th>0</th>\n",
              "      <td>عمل الفنان هو عبارة عن مزيج من النجاحات التي ت...</td>\n",
              "      <td>[0, 0, 0, 0, 0, 0, 0, 0, 0, 0, 0, 0, 0, 0, 0, ...</td>\n",
              "    </tr>\n",
              "    <tr>\n",
              "      <th>1</th>\n",
              "      <td>كتب المدوّن المصري شيء بقلبي عن حملة بعنوان  3...</td>\n",
              "      <td>[0, 0, 0, 1, 0, 0, 0, 0, 0, 1, 0, 0, 0, 0, 0, ...</td>\n",
              "    </tr>\n",
              "    <tr>\n",
              "      <th>2</th>\n",
              "      <td>يقضي “كريم إنارة”، رئيس وحدة العدالة الجنائية ...</td>\n",
              "      <td>[0, 0, 0, 0, 0, 0, 0, 0, 1, 0, 0, 0, 1, 1, 1, ...</td>\n",
              "    </tr>\n",
              "    <tr>\n",
              "      <th>3</th>\n",
              "      <td>هذا المقال جزء من تغطيتنا الخاصة  بالثورة المص...</td>\n",
              "      <td>[0, 0, 0, 0, 0, 1, 0, 0, 0, 0, 0, 0, 0, 0, 1, ...</td>\n",
              "    </tr>\n",
              "    <tr>\n",
              "      <th>4</th>\n",
              "      <td>تذكر التقارير الصحفية أن دق ناقوس الخطر بسبب ا...</td>\n",
              "      <td>[0, 0, 0, 1, 0, 0, 0, 0, 0, 0, 0, 0, 0, 1, 0, ...</td>\n",
              "    </tr>\n",
              "    <tr>\n",
              "      <th>...</th>\n",
              "      <td>...</td>\n",
              "      <td>...</td>\n",
              "    </tr>\n",
              "    <tr>\n",
              "      <th>3970</th>\n",
              "      <td>غردت فرح جون عن الفنانة الإيرانية عذرا عقیقی ب...</td>\n",
              "      <td>[0, 0, 0, 0, 0, 0, 0, 0, 0, 0, 0, 0, 0, 0, 0, ...</td>\n",
              "    </tr>\n",
              "    <tr>\n",
              "      <th>3971</th>\n",
              "      <td>المدون داريوس كاديفا من مدونة Iranian.com يكتب...</td>\n",
              "      <td>[0, 0, 0, 0, 0, 1, 0, 0, 0, 0, 0, 0, 1, 1, 0, ...</td>\n",
              "    </tr>\n",
              "    <tr>\n",
              "      <th>3972</th>\n",
              "      <td>مهنة تعليم الآخرين هي مهنة جديرة بالتقدير خاصة...</td>\n",
              "      <td>[0, 0, 0, 0, 0, 0, 0, 0, 0, 0, 0, 0, 0, 0, 0, ...</td>\n",
              "    </tr>\n",
              "    <tr>\n",
              "      <th>3973</th>\n",
              "      <td>صرّح متظاهرو “الثورة الملونة” في مقدونيا أن إع...</td>\n",
              "      <td>[0, 0, 0, 1, 0, 1, 0, 0, 0, 0, 0, 0, 1, 0, 1, ...</td>\n",
              "    </tr>\n",
              "    <tr>\n",
              "      <th>3974</th>\n",
              "      <td>يعرض فن الحائط في البحرين في Wooster Collectiv...</td>\n",
              "      <td>[0, 0, 0, 0, 0, 0, 0, 0, 0, 0, 0, 0, 0, 0, 0, ...</td>\n",
              "    </tr>\n",
              "  </tbody>\n",
              "</table>\n",
              "<p>3975 rows × 2 columns</p>\n",
              "</div>"
            ],
            "text/plain": [
              "                                                   text                                              label\n",
              "0     عمل الفنان هو عبارة عن مزيج من النجاحات التي ت...  [0, 0, 0, 0, 0, 0, 0, 0, 0, 0, 0, 0, 0, 0, 0, ...\n",
              "1     كتب المدوّن المصري شيء بقلبي عن حملة بعنوان  3...  [0, 0, 0, 1, 0, 0, 0, 0, 0, 1, 0, 0, 0, 0, 0, ...\n",
              "2     يقضي “كريم إنارة”، رئيس وحدة العدالة الجنائية ...  [0, 0, 0, 0, 0, 0, 0, 0, 1, 0, 0, 0, 1, 1, 1, ...\n",
              "3     هذا المقال جزء من تغطيتنا الخاصة  بالثورة المص...  [0, 0, 0, 0, 0, 1, 0, 0, 0, 0, 0, 0, 0, 0, 1, ...\n",
              "4     تذكر التقارير الصحفية أن دق ناقوس الخطر بسبب ا...  [0, 0, 0, 1, 0, 0, 0, 0, 0, 0, 0, 0, 0, 1, 0, ...\n",
              "...                                                 ...                                                ...\n",
              "3970  غردت فرح جون عن الفنانة الإيرانية عذرا عقیقی ب...  [0, 0, 0, 0, 0, 0, 0, 0, 0, 0, 0, 0, 0, 0, 0, ...\n",
              "3971  المدون داريوس كاديفا من مدونة Iranian.com يكتب...  [0, 0, 0, 0, 0, 1, 0, 0, 0, 0, 0, 0, 1, 1, 0, ...\n",
              "3972  مهنة تعليم الآخرين هي مهنة جديرة بالتقدير خاصة...  [0, 0, 0, 0, 0, 0, 0, 0, 0, 0, 0, 0, 0, 0, 0, ...\n",
              "3973  صرّح متظاهرو “الثورة الملونة” في مقدونيا أن إع...  [0, 0, 0, 1, 0, 1, 0, 0, 0, 0, 0, 0, 1, 0, 1, ...\n",
              "3974  يعرض فن الحائط في البحرين في Wooster Collectiv...  [0, 0, 0, 0, 0, 0, 0, 0, 0, 0, 0, 0, 0, 0, 0, ...\n",
              "\n",
              "[3975 rows x 2 columns]"
            ]
          },
          "metadata": {},
          "execution_count": 25
        }
      ]
    },
    {
      "cell_type": "code",
      "metadata": {
        "id": "Mv7kpxPFKA7K"
      },
      "source": [
        "data_Testing = CustomDataset(\"Testing\", df_train, df_test, label_list_Testing)"
      ],
      "execution_count": null,
      "outputs": []
    },
    {
      "cell_type": "code",
      "metadata": {
        "id": "mPx4EwhZnhUQ"
      },
      "source": [
        "from arabert.preprocess import ArabertPreprocessor\n",
        "import numpy as np\n",
        "from sklearn.metrics import classification_report, accuracy_score, f1_score, confusion_matrix, precision_score , recall_score\n",
        "\n",
        "from transformers import AutoConfig, AutoModelForSequenceClassification, AutoTokenizer, BertTokenizer\n",
        "from transformers.data.processors import SingleSentenceClassificationProcessor\n",
        "from transformers import Trainer , TrainingArguments\n",
        "from transformers.trainer_utils import EvaluationStrategy\n",
        "from transformers.data.processors.utils import InputFeatures\n",
        "from torch.utils.data import Dataset\n",
        "from torch.utils.data import DataLoader\n",
        "from sklearn.utils import resample\n",
        "import logging\n",
        "import torch\n",
        "import optuna "
      ],
      "execution_count": null,
      "outputs": []
    },
    {
      "cell_type": "code",
      "metadata": {
        "id": "XftWgVUHnwFx"
      },
      "source": [
        "logging.basicConfig(level=logging.WARNING)\n",
        "logger = logging.getLogger(__name__)"
      ],
      "execution_count": null,
      "outputs": []
    },
    {
      "cell_type": "code",
      "metadata": {
        "id": "qqygP82_n0u2"
      },
      "source": [
        "dataset_name = 'Testing'\n",
        "model_name = 'aubmindlab/bert-base-arabertv02'\n",
        "task_name = 'classification'\n",
        "max_len = 256"
      ],
      "execution_count": null,
      "outputs": []
    },
    {
      "cell_type": "code",
      "metadata": {
        "id": "yDKlr1Z1PeO7"
      },
      "source": [
        "selected_dataset = data_Testing # this is useless i know"
      ],
      "execution_count": null,
      "outputs": []
    },
    {
      "cell_type": "code",
      "metadata": {
        "id": "VGofa8Wyn37W"
      },
      "source": [
        "arabert_prep = ArabertPreprocessor(model_name.split(\"/\")[-1])\n",
        "\n",
        "selected_dataset.train['text'] = selected_dataset.train['text'].apply(lambda x:   arabert_prep.preprocess(x))\n",
        "selected_dataset.test['text'] = selected_dataset.test['text'].apply(lambda x:   arabert_prep.preprocess(x))  "
      ],
      "execution_count": null,
      "outputs": []
    },
    {
      "cell_type": "code",
      "metadata": {
        "colab": {
          "base_uri": "https://localhost:8080/"
        },
        "id": "u5icwRm_n56H",
        "outputId": "8cc81f02-6656-424b-8699-2eed1c46b72e"
      },
      "source": [
        "selected_dataset.train['text']"
      ],
      "execution_count": null,
      "outputs": [
        {
          "output_type": "execute_result",
          "data": {
            "text/plain": [
              "0       عمل الفنان هو عبارة عن مزيج من النجاحات التي ت...\n",
              "1       كتب المدون المصري شيء بقلبي عن حملة بعنوان 30 ...\n",
              "2       يقضي “ كريم إنارة ” ، رئيس وحدة العدالة الجنائ...\n",
              "3       هذا المقال جزء من تغطيتنا الخاصة بالثورة المصر...\n",
              "4       تذكر التقارير الصحفية أن دق ناقوس الخطر بسبب ا...\n",
              "                              ...                        \n",
              "3970    غردت فرح جون عن الفنانة الإيرانية عذرا عق ق بخ...\n",
              "3971    المدون داريوس كاديفا من مدونة [رابط] يكتب [انك...\n",
              "3972    مهنة تعليم الآخرين هي مهنة جديرة بالتقدير خاصة...\n",
              "3973    صرح متظاهرو “ الثورة الملونة ” في مقدونيا أن إ...\n",
              "3974    يعرض فن الحائط في البحرين في Wooster Collectiv...\n",
              "Name: text, Length: 3975, dtype: object"
            ]
          },
          "metadata": {},
          "execution_count": 32
        }
      ]
    },
    {
      "cell_type": "code",
      "metadata": {
        "id": "KmeAy2-NJUz1",
        "colab": {
          "base_uri": "https://localhost:8080/",
          "height": 177,
          "referenced_widgets": [
            "16418349e3c74102b113c5490cd2374e",
            "4e5fbe49055d4d50a00fb137599b641c",
            "a7121e49aaa54de29c02b4d9d69cc1fc",
            "9a5a0e8fb77643c29fbfb6b9f55b7005",
            "4055539fc0e547618a0e7148e0bb3443",
            "b560eae738cd4597a239bf857bea79d6",
            "1989523ce07c435499ac5e62783cccf6",
            "f7e1ed97a5574a16b91b3324ed8bdbe6",
            "871d08dc3f414398b99798024fccee8f",
            "cd2ab2f2ab5e47049df69c5ba2327c3c",
            "f3869d58209f4062b9cd0f6572d74408",
            "ce9929b1542941f7a585eef5a1cbf3ec",
            "a2712d26063d431d8ad13f00c45dd794",
            "b8b337c55a774fcc924151821ee63fc3",
            "6c76cfcb1d7a4907a705566e21ec2205",
            "63923cfb4ad040549a7b034a92d687ef",
            "e9dd75b2e23142e2bbd314f45fd2ad30",
            "d492ac0fd9454fa28341494834a4cc95",
            "ac643160bde84ea196131542b1ef67ac",
            "46480bc57c0541d9897c68150882bb43",
            "7c6a610ed890400e943c1ec7f7b9f681",
            "ce6266519676487b9975fd3885e4fb56",
            "2e8f097a5ba74bb7b57b22809d19e8dd",
            "73a0b9cd9fd74bf882d382f7c3422216",
            "1a329a45a0534fc7ad0659ef1d36c340",
            "17b2a0786fd245f79a2e88152409eaa4",
            "6fed7fe9ad6e4f66b6b1572843ac4cca",
            "7e188db77a8c4249bd4a1926dd75c41c",
            "7d443592a879497887535dea384783da",
            "a71dd38192aa4b24bb605661f9c9884e",
            "c28f6ecd672b49778443b4f66e67ce76",
            "cc0acb44f3814153b99ae38ecb5337e7",
            "a73ef3529c3a4cf3bde4fa1f5026e33d",
            "1d04796f47dd43df9f17f7dc2944cf75",
            "b282682ad011471f9b47fbe1503278c3",
            "c91fda7c11cd4240a2baf314fa7073b5",
            "b5641d1f78e74416a4cf934a7fbd2959",
            "9f5813c5ba6b455282ef05a10d9cb7a1",
            "8a790c3a6eac4c96af6b3509cb88965b",
            "e7dd8f610d7a45c7af1b17404c3b5a55",
            "f6dde4bcb010493d9d8af3f461b648c5",
            "72afb0df85df496f8c020deba765ecd1",
            "bcd2d1f38ea14de29ed49dd83e458576",
            "6a0b192c63244a9690f45ad9653715da",
            "0c7db08ab1f04ddaaa22f9a1193a525f",
            "83b250e8acd246108b18e8b67d614f78",
            "ec87de1261cd417ba7cce78be371eebe",
            "9727f51eda134c5e8c1ec4ed176c9918",
            "ba701ad999b3465989cdffc7ddf6e7ed",
            "06bc206c07f248b8b9c392522524660a",
            "4072b42caf334e229364db448bc6ec52",
            "67d466b84168412e9dc10b973b6a04b4",
            "9a5f852b71414d589c3c98a887d32ca3",
            "da471eb5b814430c8390c02ee72a897a",
            "3e1fa0d7d9df4ae4a980b2f08aaf625c"
          ]
        },
        "outputId": "74ecc3de-761c-4a63-e5db-02acf9097806"
      },
      "source": [
        "tok = AutoTokenizer.from_pretrained(model_name)"
      ],
      "execution_count": null,
      "outputs": [
        {
          "output_type": "display_data",
          "data": {
            "application/vnd.jupyter.widget-view+json": {
              "model_id": "16418349e3c74102b113c5490cd2374e",
              "version_minor": 0,
              "version_major": 2
            },
            "text/plain": [
              "Downloading:   0%|          | 0.00/381 [00:00<?, ?B/s]"
            ]
          },
          "metadata": {}
        },
        {
          "output_type": "display_data",
          "data": {
            "application/vnd.jupyter.widget-view+json": {
              "model_id": "ce9929b1542941f7a585eef5a1cbf3ec",
              "version_minor": 0,
              "version_major": 2
            },
            "text/plain": [
              "Downloading:   0%|          | 0.00/384 [00:00<?, ?B/s]"
            ]
          },
          "metadata": {}
        },
        {
          "output_type": "display_data",
          "data": {
            "application/vnd.jupyter.widget-view+json": {
              "model_id": "2e8f097a5ba74bb7b57b22809d19e8dd",
              "version_minor": 0,
              "version_major": 2
            },
            "text/plain": [
              "Downloading:   0%|          | 0.00/825k [00:00<?, ?B/s]"
            ]
          },
          "metadata": {}
        },
        {
          "output_type": "display_data",
          "data": {
            "application/vnd.jupyter.widget-view+json": {
              "model_id": "1d04796f47dd43df9f17f7dc2944cf75",
              "version_minor": 0,
              "version_major": 2
            },
            "text/plain": [
              "Downloading:   0%|          | 0.00/2.64M [00:00<?, ?B/s]"
            ]
          },
          "metadata": {}
        },
        {
          "output_type": "display_data",
          "data": {
            "application/vnd.jupyter.widget-view+json": {
              "model_id": "0c7db08ab1f04ddaaa22f9a1193a525f",
              "version_minor": 0,
              "version_major": 2
            },
            "text/plain": [
              "Downloading:   0%|          | 0.00/112 [00:00<?, ?B/s]"
            ]
          },
          "metadata": {}
        }
      ]
    },
    {
      "cell_type": "code",
      "metadata": {
        "id": "RJg1zYG3Ofh2"
      },
      "source": [
        "import matplotlib.pyplot as plt"
      ],
      "execution_count": null,
      "outputs": []
    },
    {
      "cell_type": "code",
      "metadata": {
        "colab": {
          "base_uri": "https://localhost:8080/",
          "height": 598
        },
        "id": "gNUAoR6jJOgC",
        "outputId": "1333437f-cbcf-475e-970e-e24f43264d20"
      },
      "source": [
        "print(\"Training Sentence Lengths: \")\n",
        "plt.hist([ len(tok.tokenize(sentence)) for sentence in selected_dataset.train['text'].to_list()],bins=range(0,256,2))\n",
        "plt.show()\n",
        "print(sum([len(tok.tokenize(sentence)) > 256 for sentence in selected_dataset.train['text'].to_list()]))\n",
        "\n",
        "print(\"Testing Sentence Lengths: \")\n",
        "plt.hist([ len(tok.tokenize(sentence)) for sentence in selected_dataset.test['text'].to_list()],bins=range(0,256,2))\n",
        "plt.show()\n",
        "print(sum([len(tok.tokenize(sentence)) > 256 for sentence in selected_dataset.test['text'].to_list()]))"
      ],
      "execution_count": null,
      "outputs": [
        {
          "output_type": "stream",
          "name": "stderr",
          "text": [
            "Token indices sequence length is longer than the specified maximum sequence length for this model (776 > 512). Running this sequence through the model will result in indexing errors\n"
          ]
        },
        {
          "output_type": "stream",
          "name": "stdout",
          "text": [
            "Training Sentence Lengths: \n"
          ]
        },
        {
          "output_type": "display_data",
          "data": {
            "image/png": "[encoded data removed]",
            "text/plain": [
              "<Figure size 432x288 with 1 Axes>"
            ]
          },
          "metadata": {
            "needs_background": "light"
          }
        },
        {
          "output_type": "stream",
          "name": "stdout",
          "text": [
            "1940\n",
            "Testing Sentence Lengths: \n"
          ]
        },
        {
          "output_type": "display_data",
          "data": {
            "image/png": "[encoded data removed]",
            "text/plain": [
              "<Figure size 432x288 with 1 Axes>"
            ]
          },
          "metadata": {
            "needs_background": "light"
          }
        },
        {
          "output_type": "stream",
          "name": "stdout",
          "text": [
            "511\n"
          ]
        }
      ]
    },
    {
      "cell_type": "code",
      "metadata": {
        "id": "fGvK55l8_QJM"
      },
      "source": [
        "class BERTDataset(Dataset):\n",
        "    def __init__(self, text, target, model_name, max_len, label_map):\n",
        "      super(BERTDataset).__init__()\n",
        "      self.text = text\n",
        "      self.target = target\n",
        "      self.tokenizer_name = model_name\n",
        "      self.tokenizer = AutoTokenizer.from_pretrained(model_name)\n",
        "      self.max_len = max_len\n",
        "      self.label_map = label_map\n",
        "      \n",
        "\n",
        "    def __len__(self):\n",
        "      return len(self.text)\n",
        "\n",
        "    def __getitem__(self,item):\n",
        "      text = str(self.text[item])\n",
        "      text = \" \".join(text.split())\n",
        "\n",
        "\n",
        "        \n",
        "      input_ids = self.tokenizer.encode(\n",
        "          text,\n",
        "          add_special_tokens=True,\n",
        "          max_length=self.max_len,\n",
        "          truncation='longest_first'\n",
        "      )     \n",
        "    \n",
        "      attention_mask = [1] * len(input_ids)\n",
        "\n",
        "      # Zero-pad up to the sequence length.\n",
        "      padding_length = self.max_len - len(input_ids)\n",
        "      input_ids = input_ids + ([self.tokenizer.pad_token_id] * padding_length)\n",
        "      attention_mask = attention_mask + ([0] * padding_length)  \n",
        "      lb = self.target[item]\n",
        "      return InputFeatures(input_ids=input_ids, attention_mask=attention_mask, label=lb)"
      ],
      "execution_count": null,
      "outputs": []
    },
    {
      "cell_type": "code",
      "metadata": {
        "colab": {
          "base_uri": "https://localhost:8080/"
        },
        "id": "v45O3YHkG2DI",
        "outputId": "213fdb99-1050-4211-8605-9e3f8e67f550"
      },
      "source": [
        "len(label_list_Testing)"
      ],
      "execution_count": null,
      "outputs": [
        {
          "output_type": "execute_result",
          "data": {
            "text/plain": [
              "17"
            ]
          },
          "metadata": {},
          "execution_count": 38
        }
      ]
    },
    {
      "cell_type": "code",
      "metadata": {
        "id": "BjzpBKOv_TW4"
      },
      "source": [
        "label_map = { v:index for index, v in enumerate(label_list_Testing) }\n",
        "inv_label_map = { v:k for k,v in label_map.items()}\n",
        "# label_map = label_list_Testing\n",
        "\n",
        "train_dataset = BERTDataset(\n",
        "  selected_dataset.train['text'].to_list(),\n",
        "  selected_dataset.train['label'].to_list(),\n",
        "  model_name,\n",
        "  max_len,\n",
        "  label_map\n",
        "  )\n",
        "test_dataset = BERTDataset(\n",
        "  selected_dataset.test['text'].to_list(),\n",
        "  selected_dataset.test['label'].to_list(),\n",
        "  model_name,\n",
        "  max_len,\n",
        "  label_map\n",
        "  )"
      ],
      "execution_count": null,
      "outputs": []
    },
    {
      "cell_type": "code",
      "metadata": {
        "id": "pAXdvBme-QPI"
      },
      "source": [
        "it = iter(train_dataset)"
      ],
      "execution_count": null,
      "outputs": []
    },
    {
      "cell_type": "code",
      "metadata": {
        "colab": {
          "base_uri": "https://localhost:8080/"
        },
        "id": "9d9TXoTd_XdL",
        "outputId": "e0785a39-d7d8-49c3-b5e9-9a3f22ef3a19"
      },
      "source": [
        "next(it).label"
      ],
      "execution_count": null,
      "outputs": [
        {
          "output_type": "execute_result",
          "data": {
            "text/plain": [
              "[0, 0, 0, 0, 0, 0, 0, 0, 0, 0, 0, 0, 0, 0, 0, 1, 1]"
            ]
          },
          "metadata": {},
          "execution_count": 31
        }
      ]
    },
    {
      "cell_type": "code",
      "metadata": {
        "id": "ndP-eBWz_YYR"
      },
      "source": [
        "def model_init():\n",
        "    return AutoModelForSequenceClassification.from_pretrained(\n",
        "        model_name,\n",
        "         return_dict=True,\n",
        "          num_labels=len(label_map),\n",
        "          problem_type='multi_label_classification',\n",
        "          id2label=inv_label_map,\n",
        "          label2id=label_map\n",
        "      )"
      ],
      "execution_count": null,
      "outputs": []
    },
    {
      "cell_type": "code",
      "metadata": {
        "id": "v8AEhKoH_aS6"
      },
      "source": [
        "import scipy\n",
        "\n",
        "def compute_metrics(p): #p should be of type EvalPrediction\n",
        "  preds = scipy.special.softmax(p.predictions) > 0.5\n",
        "  assert len(preds) == len(p.label_ids)\n",
        "  print(classification_report(p.label_ids,preds))\n",
        "  #print(confusion_matrix(p.label_ids,preds))\n",
        "\n",
        "  macro_f1 = f1_score(p.label_ids,preds,average='macro')\n",
        "  macro_precision = precision_score(p.label_ids,preds,average='macro')\n",
        "  macro_recall = recall_score(p.label_ids,preds,average='macro')\n",
        "  acc = accuracy_score(p.label_ids,preds)\n",
        "  return {\n",
        "      'macro_f1' : macro_f1,\n",
        "      'macro_precision': macro_precision,\n",
        "      'macro_recall': macro_recall,\n",
        "      'accuracy': acc\n",
        "  }"
      ],
      "execution_count": null,
      "outputs": []
    },
    {
      "cell_type": "code",
      "metadata": {
        "id": "xXGkMf2l_d6z"
      },
      "source": [
        "training_args = TrainingArguments( \n",
        "    output_dir= \"./train\",    \n",
        "    adam_epsilon = 1e-8,\n",
        "    learning_rate = 2e-5,\n",
        "    fp16 = False,\n",
        "    #per_device_train_batch_size = 8,\n",
        "    #per_device_eval_batch_size = 8,\n",
        "    per_device_train_batch_size = 10,\n",
        "    per_device_eval_batch_size = 10,\n",
        "    gradient_accumulation_steps = 4,\n",
        "    #num_train_epochs= 10,\n",
        "    num_train_epochs= 3,\n",
        "    warmup_ratio = 0,\n",
        "    do_eval = True,\n",
        "    evaluation_strategy = 'epoch',\n",
        "    save_strategy = 'epoch',\n",
        "    load_best_model_at_end = False,\n",
        "    metric_for_best_model = 'macro_f1',\n",
        "    greater_is_better = True,\n",
        "    seed = 666\n",
        "  )"
      ],
      "execution_count": null,
      "outputs": []
    },
    {
      "cell_type": "code",
      "metadata": {
        "colab": {
          "base_uri": "https://localhost:8080/"
        },
        "id": "B54veQx0_fBo",
        "outputId": "c2d8194a-3d23-45d2-d3e2-986d8e463298"
      },
      "source": [
        "steps_per_epoch = (len(selected_dataset.train)// (training_args.per_device_train_batch_size * training_args.gradient_accumulation_steps))\n",
        "total_steps = steps_per_epoch * training_args.num_train_epochs\n",
        "print(steps_per_epoch)\n",
        "print(total_steps)"
      ],
      "execution_count": null,
      "outputs": [
        {
          "output_type": "stream",
          "name": "stdout",
          "text": [
            "99\n",
            "297\n"
          ]
        }
      ]
    },
    {
      "cell_type": "code",
      "metadata": {
        "id": "HPQcZoTq_h3I"
      },
      "source": [
        "trainer = Trainer(\n",
        "    args=training_args,\n",
        "    train_dataset=train_dataset, \n",
        "    eval_dataset=test_dataset, \n",
        "    model_init=model_init,\n",
        "    compute_metrics=compute_metrics,\n",
        ")"
      ],
      "execution_count": null,
      "outputs": []
    },
    {
      "cell_type": "code",
      "metadata": {
        "colab": {
          "base_uri": "https://localhost:8080/",
          "height": 1000
        },
        "id": "ts-3jgiNA5fd",
        "outputId": "bd90e803-2102-4a75-ea1d-30a2b576d643"
      },
      "source": [
        "trainer.train()"
      ],
      "execution_count": null,
      "outputs": [
        {
          "output_type": "stream",
          "name": "stderr",
          "text": [
            "loading configuration file https://huggingface.co/aubmindlab/bert-base-arabertv02/resolve/main/config.json from cache at /root/.cache/huggingface/transformers/411eec8d9e12bf4c11eebebb4c5fecd46da787616f45bcfd6cb187e0917afae0.2f0d0092105af7b8b42b899ffb7f801dc48e93516d509483f6cfbd86155d49ea\n",
            "Model config BertConfig {\n",
            "  \"architectures\": [\n",
            "    \"BertForMaskedLM\"\n",
            "  ],\n",
            "  \"attention_probs_dropout_prob\": 0.1,\n",
            "  \"classifier_dropout\": null,\n",
            "  \"gradient_checkpointing\": false,\n",
            "  \"hidden_act\": \"gelu\",\n",
            "  \"hidden_dropout_prob\": 0.1,\n",
            "  \"hidden_size\": 768,\n",
            "  \"id2label\": {\n",
            "    \"0\": \"COVID-19\",\n",
            "    \"1\": \"\\u0622\\u062f\\u0627\\u0628\",\n",
            "    \"2\": \"\\u0623\\u0635\\u0627\\u0644\\u0629\",\n",
            "    \"3\": \"\\u0623\\u0641\\u0643\\u0627\\u0631\",\n",
            "    \"4\": \"\\u0623\\u0641\\u0644\\u0627\\u0645\",\n",
            "    \"5\": \"\\u0627\\u062d\\u062a\\u062c\\u0627\\u062c\",\n",
            "    \"6\": \"\\u0627\\u0644\\u0625\\u0639\\u0644\\u0627\\u0645 \\u0648\\u0627\\u0644\\u0635\\u062d\\u0627\\u0641\\u0629\",\n",
            "    \"7\": \"\\u0627\\u0644\\u0646\\u0633\\u0627\\u0621 \\u0648\\u0627\\u0644\\u0646\\u0648\\u0639\",\n",
            "    \"8\": \"\\u0627\\u0644\\u0646\\u0634\\u0627\\u0637 \\u0627\\u0644\\u0631\\u0642\\u0645\\u064a\",\n",
            "    \"9\": \"\\u062a\\u0642\\u0646\\u064a\\u0629\",\n",
            "    \"10\": \"\\u062d\\u0631\\u0648\\u0628 \\u0648\\u0646\\u0632\\u0627\\u0639\\u0627\\u062a\",\n",
            "    \"11\": \"\\u062d\\u0631\\u064a\\u0629 \\u0627\\u0644\\u062a\\u0639\\u0628\\u064a\\u0631\",\n",
            "    \"12\": \"\\u062d\\u0642\\u0648\\u0642 \\u0627\\u0644\\u0625\\u0646\\u0633\\u0627\\u0646\",\n",
            "    \"13\": \"\\u062d\\u0643\\u0645\",\n",
            "    \"14\": \"\\u0633\\u064a\\u0627\\u0633\\u0629\",\n",
            "    \"15\": \"\\u0635\\u062d\\u0627\\u0641\\u0629 \\u0627\\u0644\\u0645\\u0648\\u0627\\u0637\\u0646\",\n",
            "    \"16\": \"\\u0641\\u0646\\u0648\\u0646 \\u0648\\u062b\\u0642\\u0627\\u0641\\u0629\"\n",
            "  },\n",
            "  \"initializer_range\": 0.02,\n",
            "  \"intermediate_size\": 3072,\n",
            "  \"label2id\": {\n",
            "    \"COVID-19\": 0,\n",
            "    \"\\u0622\\u062f\\u0627\\u0628\": 1,\n",
            "    \"\\u0623\\u0635\\u0627\\u0644\\u0629\": 2,\n",
            "    \"\\u0623\\u0641\\u0643\\u0627\\u0631\": 3,\n",
            "    \"\\u0623\\u0641\\u0644\\u0627\\u0645\": 4,\n",
            "    \"\\u0627\\u062d\\u062a\\u062c\\u0627\\u062c\": 5,\n",
            "    \"\\u0627\\u0644\\u0625\\u0639\\u0644\\u0627\\u0645 \\u0648\\u0627\\u0644\\u0635\\u062d\\u0627\\u0641\\u0629\": 6,\n",
            "    \"\\u0627\\u0644\\u0646\\u0633\\u0627\\u0621 \\u0648\\u0627\\u0644\\u0646\\u0648\\u0639\": 7,\n",
            "    \"\\u0627\\u0644\\u0646\\u0634\\u0627\\u0637 \\u0627\\u0644\\u0631\\u0642\\u0645\\u064a\": 8,\n",
            "    \"\\u062a\\u0642\\u0646\\u064a\\u0629\": 9,\n",
            "    \"\\u062d\\u0631\\u0648\\u0628 \\u0648\\u0646\\u0632\\u0627\\u0639\\u0627\\u062a\": 10,\n",
            "    \"\\u062d\\u0631\\u064a\\u0629 \\u0627\\u0644\\u062a\\u0639\\u0628\\u064a\\u0631\": 11,\n",
            "    \"\\u062d\\u0642\\u0648\\u0642 \\u0627\\u0644\\u0625\\u0646\\u0633\\u0627\\u0646\": 12,\n",
            "    \"\\u062d\\u0643\\u0645\": 13,\n",
            "    \"\\u0633\\u064a\\u0627\\u0633\\u0629\": 14,\n",
            "    \"\\u0635\\u062d\\u0627\\u0641\\u0629 \\u0627\\u0644\\u0645\\u0648\\u0627\\u0637\\u0646\": 15,\n",
            "    \"\\u0641\\u0646\\u0648\\u0646 \\u0648\\u062b\\u0642\\u0627\\u0641\\u0629\": 16\n",
            "  },\n",
            "  \"layer_norm_eps\": 1e-12,\n",
            "  \"max_position_embeddings\": 512,\n",
            "  \"model_type\": \"bert\",\n",
            "  \"num_attention_heads\": 12,\n",
            "  \"num_hidden_layers\": 12,\n",
            "  \"pad_token_id\": 0,\n",
            "  \"position_embedding_type\": \"absolute\",\n",
            "  \"problem_type\": \"multi_label_classification\",\n",
            "  \"transformers_version\": \"4.10.2\",\n",
            "  \"type_vocab_size\": 2,\n",
            "  \"use_cache\": true,\n",
            "  \"vocab_size\": 64000\n",
            "}\n",
            "\n",
            "loading weights file https://huggingface.co/aubmindlab/bert-base-arabertv02/resolve/main/pytorch_model.bin from cache at /root/.cache/huggingface/transformers/c0183275aaa055648fb44d6c24d9604b860b02398c7d9c7bea64257cdb87a56e.9e74f71b2acf9ee9289bd6ab56938934df2792f595150523e3f83558666a9676\n",
            "Some weights of the model checkpoint at aubmindlab/bert-base-arabertv02 were not used when initializing BertForSequenceClassification: ['cls.seq_relationship.weight', 'cls.predictions.bias', 'cls.seq_relationship.bias', 'cls.predictions.transform.dense.weight', 'cls.predictions.transform.LayerNorm.bias', 'cls.predictions.decoder.weight', 'cls.predictions.transform.LayerNorm.weight', 'cls.predictions.decoder.bias', 'cls.predictions.transform.dense.bias']\n",
            "- This IS expected if you are initializing BertForSequenceClassification from the checkpoint of a model trained on another task or with another architecture (e.g. initializing a BertForSequenceClassification model from a BertForPreTraining model).\n",
            "- This IS NOT expected if you are initializing BertForSequenceClassification from the checkpoint of a model that you expect to be exactly identical (initializing a BertForSequenceClassification model from a BertForSequenceClassification model).\n",
            "Some weights of BertForSequenceClassification were not initialized from the model checkpoint at aubmindlab/bert-base-arabertv02 and are newly initialized: ['classifier.bias', 'classifier.weight']\n",
            "You should probably TRAIN this model on a down-stream task to be able to use it for predictions and inference.\n",
            "***** Running training *****\n",
            "  Num examples = 3975\n",
            "  Num Epochs = 3\n",
            "  Instantaneous batch size per device = 10\n",
            "  Total train batch size (w. parallel, distributed & accumulation) = 40\n",
            "  Gradient Accumulation steps = 4\n",
            "  Total optimization steps = 297\n"
          ]
        },
        {
          "output_type": "display_data",
          "data": {
            "text/html": [
              "\n",
              "    <div>\n",
              "      \n",
              "      <progress value='297' max='297' style='width:300px; height:20px; vertical-align: middle;'></progress>\n",
              "      [297/297 18:45, Epoch 2/3]\n",
              "    </div>\n",
              "    <table border=\"1\" class=\"dataframe\">\n",
              "  <thead>\n",
              "    <tr style=\"text-align: left;\">\n",
              "      <th>Epoch</th>\n",
              "      <th>Training Loss</th>\n",
              "      <th>Validation Loss</th>\n",
              "      <th>Macro F1</th>\n",
              "      <th>Macro Precision</th>\n",
              "      <th>Macro Recall</th>\n",
              "      <th>Accuracy</th>\n",
              "    </tr>\n",
              "  </thead>\n",
              "  <tbody>\n",
              "    <tr>\n",
              "      <td>0</td>\n",
              "      <td>No log</td>\n",
              "      <td>0.339935</td>\n",
              "      <td>0.000000</td>\n",
              "      <td>0.000000</td>\n",
              "      <td>0.000000</td>\n",
              "      <td>0.048290</td>\n",
              "    </tr>\n",
              "    <tr>\n",
              "      <td>1</td>\n",
              "      <td>No log</td>\n",
              "      <td>0.313755</td>\n",
              "      <td>0.000000</td>\n",
              "      <td>0.000000</td>\n",
              "      <td>0.000000</td>\n",
              "      <td>0.048290</td>\n",
              "    </tr>\n",
              "    <tr>\n",
              "      <td>2</td>\n",
              "      <td>No log</td>\n",
              "      <td>0.303295</td>\n",
              "      <td>0.000000</td>\n",
              "      <td>0.000000</td>\n",
              "      <td>0.000000</td>\n",
              "      <td>0.048290</td>\n",
              "    </tr>\n",
              "  </tbody>\n",
              "</table><p>"
            ],
            "text/plain": [
              "<IPython.core.display.HTML object>"
            ]
          },
          "metadata": {}
        },
        {
          "output_type": "stream",
          "name": "stderr",
          "text": [
            "***** Running Evaluation *****\n",
            "  Num examples = 994\n",
            "  Batch size = 10\n"
          ]
        },
        {
          "output_type": "stream",
          "name": "stdout",
          "text": [
            "              precision    recall  f1-score   support\n",
            "\n",
            "           0       0.00      0.00      0.00        26\n",
            "           1       0.00      0.00      0.00        30\n",
            "           2       0.00      0.00      0.00        17\n",
            "           3       0.00      0.00      0.00        81\n",
            "           4       0.00      0.00      0.00        35\n",
            "           5       0.00      0.00      0.00       169\n",
            "           6       0.00      0.00      0.00       111\n",
            "           7       0.00      0.00      0.00       100\n",
            "           8       0.00      0.00      0.00       207\n",
            "           9       0.00      0.00      0.00       119\n",
            "          10       0.00      0.00      0.00       165\n",
            "          11       0.00      0.00      0.00       175\n",
            "          12       0.00      0.00      0.00       268\n",
            "          13       0.00      0.00      0.00       134\n",
            "          14       0.00      0.00      0.00       282\n",
            "          15       0.00      0.00      0.00       740\n",
            "          16       0.00      0.00      0.00       146\n",
            "\n",
            "   micro avg       0.00      0.00      0.00      2805\n",
            "   macro avg       0.00      0.00      0.00      2805\n",
            "weighted avg       0.00      0.00      0.00      2805\n",
            " samples avg       0.00      0.00      0.00      2805\n",
            "\n"
          ]
        },
        {
          "output_type": "stream",
          "name": "stderr",
          "text": [
            "/usr/local/lib/python3.7/dist-packages/sklearn/metrics/_classification.py:1272: UndefinedMetricWarning:\n",
            "\n",
            "Precision and F-score are ill-defined and being set to 0.0 in labels with no predicted samples. Use `zero_division` parameter to control this behavior.\n",
            "\n",
            "/usr/local/lib/python3.7/dist-packages/sklearn/metrics/_classification.py:1272: UndefinedMetricWarning:\n",
            "\n",
            "Precision and F-score are ill-defined and being set to 0.0 due to no predicted samples. Use `zero_division` parameter to control this behavior.\n",
            "\n",
            "/usr/local/lib/python3.7/dist-packages/sklearn/metrics/_classification.py:1272: UndefinedMetricWarning:\n",
            "\n",
            "Precision and F-score are ill-defined and being set to 0.0 in samples with no predicted labels. Use `zero_division` parameter to control this behavior.\n",
            "\n",
            "/usr/local/lib/python3.7/dist-packages/sklearn/metrics/_classification.py:1272: UndefinedMetricWarning:\n",
            "\n",
            "Recall and F-score are ill-defined and being set to 0.0 in samples with no true labels. Use `zero_division` parameter to control this behavior.\n",
            "\n",
            "/usr/local/lib/python3.7/dist-packages/sklearn/metrics/_classification.py:1272: UndefinedMetricWarning:\n",
            "\n",
            "Precision is ill-defined and being set to 0.0 in labels with no predicted samples. Use `zero_division` parameter to control this behavior.\n",
            "\n",
            "Saving model checkpoint to ./train/checkpoint-99\n",
            "Configuration saved in ./train/checkpoint-99/config.json\n",
            "Model weights saved in ./train/checkpoint-99/pytorch_model.bin\n",
            "***** Running Evaluation *****\n",
            "  Num examples = 994\n",
            "  Batch size = 10\n"
          ]
        },
        {
          "output_type": "stream",
          "name": "stdout",
          "text": [
            "              precision    recall  f1-score   support\n",
            "\n",
            "           0       0.00      0.00      0.00        26\n",
            "           1       0.00      0.00      0.00        30\n",
            "           2       0.00      0.00      0.00        17\n",
            "           3       0.00      0.00      0.00        81\n",
            "           4       0.00      0.00      0.00        35\n",
            "           5       0.00      0.00      0.00       169\n",
            "           6       0.00      0.00      0.00       111\n",
            "           7       0.00      0.00      0.00       100\n",
            "           8       0.00      0.00      0.00       207\n",
            "           9       0.00      0.00      0.00       119\n",
            "          10       0.00      0.00      0.00       165\n",
            "          11       0.00      0.00      0.00       175\n",
            "          12       0.00      0.00      0.00       268\n",
            "          13       0.00      0.00      0.00       134\n",
            "          14       0.00      0.00      0.00       282\n",
            "          15       0.00      0.00      0.00       740\n",
            "          16       0.00      0.00      0.00       146\n",
            "\n",
            "   micro avg       0.00      0.00      0.00      2805\n",
            "   macro avg       0.00      0.00      0.00      2805\n",
            "weighted avg       0.00      0.00      0.00      2805\n",
            " samples avg       0.00      0.00      0.00      2805\n",
            "\n"
          ]
        },
        {
          "output_type": "stream",
          "name": "stderr",
          "text": [
            "/usr/local/lib/python3.7/dist-packages/sklearn/metrics/_classification.py:1272: UndefinedMetricWarning:\n",
            "\n",
            "Precision and F-score are ill-defined and being set to 0.0 in labels with no predicted samples. Use `zero_division` parameter to control this behavior.\n",
            "\n",
            "/usr/local/lib/python3.7/dist-packages/sklearn/metrics/_classification.py:1272: UndefinedMetricWarning:\n",
            "\n",
            "Precision and F-score are ill-defined and being set to 0.0 due to no predicted samples. Use `zero_division` parameter to control this behavior.\n",
            "\n",
            "/usr/local/lib/python3.7/dist-packages/sklearn/metrics/_classification.py:1272: UndefinedMetricWarning:\n",
            "\n",
            "Precision and F-score are ill-defined and being set to 0.0 in samples with no predicted labels. Use `zero_division` parameter to control this behavior.\n",
            "\n",
            "/usr/local/lib/python3.7/dist-packages/sklearn/metrics/_classification.py:1272: UndefinedMetricWarning:\n",
            "\n",
            "Recall and F-score are ill-defined and being set to 0.0 in samples with no true labels. Use `zero_division` parameter to control this behavior.\n",
            "\n",
            "/usr/local/lib/python3.7/dist-packages/sklearn/metrics/_classification.py:1272: UndefinedMetricWarning:\n",
            "\n",
            "Precision is ill-defined and being set to 0.0 in labels with no predicted samples. Use `zero_division` parameter to control this behavior.\n",
            "\n",
            "Saving model checkpoint to ./train/checkpoint-198\n",
            "Configuration saved in ./train/checkpoint-198/config.json\n",
            "Model weights saved in ./train/checkpoint-198/pytorch_model.bin\n",
            "***** Running Evaluation *****\n",
            "  Num examples = 994\n",
            "  Batch size = 10\n"
          ]
        },
        {
          "output_type": "stream",
          "name": "stdout",
          "text": [
            "              precision    recall  f1-score   support\n",
            "\n",
            "           0       0.00      0.00      0.00        26\n",
            "           1       0.00      0.00      0.00        30\n",
            "           2       0.00      0.00      0.00        17\n",
            "           3       0.00      0.00      0.00        81\n",
            "           4       0.00      0.00      0.00        35\n",
            "           5       0.00      0.00      0.00       169\n",
            "           6       0.00      0.00      0.00       111\n",
            "           7       0.00      0.00      0.00       100\n",
            "           8       0.00      0.00      0.00       207\n",
            "           9       0.00      0.00      0.00       119\n",
            "          10       0.00      0.00      0.00       165\n",
            "          11       0.00      0.00      0.00       175\n",
            "          12       0.00      0.00      0.00       268\n",
            "          13       0.00      0.00      0.00       134\n",
            "          14       0.00      0.00      0.00       282\n",
            "          15       0.00      0.00      0.00       740\n",
            "          16       0.00      0.00      0.00       146\n",
            "\n",
            "   micro avg       0.00      0.00      0.00      2805\n",
            "   macro avg       0.00      0.00      0.00      2805\n",
            "weighted avg       0.00      0.00      0.00      2805\n",
            " samples avg       0.00      0.00      0.00      2805\n",
            "\n"
          ]
        },
        {
          "output_type": "stream",
          "name": "stderr",
          "text": [
            "/usr/local/lib/python3.7/dist-packages/sklearn/metrics/_classification.py:1272: UndefinedMetricWarning:\n",
            "\n",
            "Precision and F-score are ill-defined and being set to 0.0 in labels with no predicted samples. Use `zero_division` parameter to control this behavior.\n",
            "\n",
            "/usr/local/lib/python3.7/dist-packages/sklearn/metrics/_classification.py:1272: UndefinedMetricWarning:\n",
            "\n",
            "Precision and F-score are ill-defined and being set to 0.0 due to no predicted samples. Use `zero_division` parameter to control this behavior.\n",
            "\n",
            "/usr/local/lib/python3.7/dist-packages/sklearn/metrics/_classification.py:1272: UndefinedMetricWarning:\n",
            "\n",
            "Precision and F-score are ill-defined and being set to 0.0 in samples with no predicted labels. Use `zero_division` parameter to control this behavior.\n",
            "\n",
            "/usr/local/lib/python3.7/dist-packages/sklearn/metrics/_classification.py:1272: UndefinedMetricWarning:\n",
            "\n",
            "Recall and F-score are ill-defined and being set to 0.0 in samples with no true labels. Use `zero_division` parameter to control this behavior.\n",
            "\n",
            "/usr/local/lib/python3.7/dist-packages/sklearn/metrics/_classification.py:1272: UndefinedMetricWarning:\n",
            "\n",
            "Precision is ill-defined and being set to 0.0 in labels with no predicted samples. Use `zero_division` parameter to control this behavior.\n",
            "\n",
            "Saving model checkpoint to ./train/checkpoint-297\n",
            "Configuration saved in ./train/checkpoint-297/config.json\n",
            "Model weights saved in ./train/checkpoint-297/pytorch_model.bin\n",
            "\n",
            "\n",
            "Training completed. Do not forget to share your model on huggingface.co/models =)\n",
            "\n",
            "\n"
          ]
        },
        {
          "output_type": "execute_result",
          "data": {
            "text/plain": [
              "TrainOutput(global_step=297, training_loss=0.3459415371570523, metrics={'train_runtime': 1123.1029, 'train_samples_per_second': 10.618, 'train_steps_per_second': 0.264, 'total_flos': 1567037353190400.0, 'train_loss': 0.3459415371570523, 'epoch': 2.99})"
            ]
          },
          "metadata": {},
          "execution_count": 37
        }
      ]
    },
    {
      "cell_type": "code",
      "metadata": {
        "colab": {
          "background_save": true
        },
        "id": "bGNYc2DOA68N"
      },
      "source": [
        "trainer.model.config.id2label = inv_label_map\n",
        "trainer.model.config.label2id = label_map"
      ],
      "execution_count": null,
      "outputs": []
    },
    {
      "cell_type": "code",
      "metadata": {
        "colab": {
          "background_save": true
        },
        "id": "ytK2V_aFIKrA"
      },
      "source": [
        "trainer.save_model(\"SOME_PATH\")\n",
        "train_dataset.tokenizer.save_pretrained(\"SOME_PATH\")"
      ],
      "execution_count": null,
      "outputs": []
    }
  ]
}